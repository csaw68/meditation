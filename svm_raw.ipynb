{
 "cells": [
  {
   "cell_type": "markdown",
   "metadata": {},
   "source": [
    "# Support Vector Machine (SVM) Classification on raw dataset"
   ]
  },
  {
   "cell_type": "markdown",
   "metadata": {},
   "source": [
    "Link to Excel file of extracted features: https://drive.google.com/drive/u/1/folders/1ZMbW7HxNkBUAlnT-_lXLD4J_r0A778SJ"
   ]
  },
  {
   "cell_type": "code",
   "execution_count": 1,
   "metadata": {},
   "outputs": [],
   "source": [
    "# import required packages\n",
    "import numpy as np\n",
    "import pandas as pd\n",
    "import matplotlib\n",
    "import matplotlib.pyplot as plt\n",
    "import seaborn as sns\n",
    "from sklearn.preprocessing import StandardScaler\n",
    "from sklearn.model_selection import train_test_split\n",
    "from sklearn import svm\n",
    "from sklearn.metrics import confusion_matrix\n",
    "from sklearn import metrics\n",
    "from sklearn.metrics import classification_report\n",
    "from sklearn.model_selection import RandomizedSearchCV\n"
   ]
  },
  {
   "cell_type": "code",
   "execution_count": 2,
   "metadata": {
    "scrolled": true
   },
   "outputs": [
    {
     "data": {
      "text/html": [
       "<div>\n",
       "<style scoped>\n",
       "    .dataframe tbody tr th:only-of-type {\n",
       "        vertical-align: middle;\n",
       "    }\n",
       "\n",
       "    .dataframe tbody tr th {\n",
       "        vertical-align: top;\n",
       "    }\n",
       "\n",
       "    .dataframe thead th {\n",
       "        text-align: right;\n",
       "    }\n",
       "</style>\n",
       "<table border=\"1\" class=\"dataframe\">\n",
       "  <thead>\n",
       "    <tr style=\"text-align: right;\">\n",
       "      <th></th>\n",
       "      <th>Total Power</th>\n",
       "      <th>Abs LFP</th>\n",
       "      <th>Abs HFP</th>\n",
       "      <th>nLFP</th>\n",
       "      <th>nHFP</th>\n",
       "      <th>LF/HF</th>\n",
       "      <th>RMSSD</th>\n",
       "      <th>SDNN</th>\n",
       "      <th>label</th>\n",
       "    </tr>\n",
       "  </thead>\n",
       "  <tbody>\n",
       "    <tr>\n",
       "      <th>0</th>\n",
       "      <td>11961.755298</td>\n",
       "      <td>3249.551607</td>\n",
       "      <td>8043.922163</td>\n",
       "      <td>0.271662</td>\n",
       "      <td>0.672470</td>\n",
       "      <td>0.403976</td>\n",
       "      <td>932.714731</td>\n",
       "      <td>54.825976</td>\n",
       "      <td>ck_pre</td>\n",
       "    </tr>\n",
       "    <tr>\n",
       "      <th>1</th>\n",
       "      <td>9211.352702</td>\n",
       "      <td>2022.717898</td>\n",
       "      <td>6829.397915</td>\n",
       "      <td>0.219590</td>\n",
       "      <td>0.741411</td>\n",
       "      <td>0.296178</td>\n",
       "      <td>803.437128</td>\n",
       "      <td>120.850089</td>\n",
       "      <td>ck_pre</td>\n",
       "    </tr>\n",
       "    <tr>\n",
       "      <th>2</th>\n",
       "      <td>9283.913716</td>\n",
       "      <td>2378.753676</td>\n",
       "      <td>6678.590063</td>\n",
       "      <td>0.256223</td>\n",
       "      <td>0.719372</td>\n",
       "      <td>0.356176</td>\n",
       "      <td>793.228617</td>\n",
       "      <td>162.223603</td>\n",
       "      <td>ck_pre</td>\n",
       "    </tr>\n",
       "    <tr>\n",
       "      <th>3</th>\n",
       "      <td>9994.154159</td>\n",
       "      <td>2431.402950</td>\n",
       "      <td>7008.622545</td>\n",
       "      <td>0.243283</td>\n",
       "      <td>0.701272</td>\n",
       "      <td>0.346916</td>\n",
       "      <td>865.589904</td>\n",
       "      <td>67.238339</td>\n",
       "      <td>ck_pre</td>\n",
       "    </tr>\n",
       "    <tr>\n",
       "      <th>4</th>\n",
       "      <td>9597.894148</td>\n",
       "      <td>1897.800009</td>\n",
       "      <td>7150.309660</td>\n",
       "      <td>0.197731</td>\n",
       "      <td>0.744987</td>\n",
       "      <td>0.265415</td>\n",
       "      <td>852.451001</td>\n",
       "      <td>70.600140</td>\n",
       "      <td>ck_pre</td>\n",
       "    </tr>\n",
       "    <tr>\n",
       "      <th>...</th>\n",
       "      <td>...</td>\n",
       "      <td>...</td>\n",
       "      <td>...</td>\n",
       "      <td>...</td>\n",
       "      <td>...</td>\n",
       "      <td>...</td>\n",
       "      <td>...</td>\n",
       "      <td>...</td>\n",
       "      <td>...</td>\n",
       "    </tr>\n",
       "    <tr>\n",
       "      <th>283</th>\n",
       "      <td>1160.095357</td>\n",
       "      <td>223.552939</td>\n",
       "      <td>813.610805</td>\n",
       "      <td>0.192702</td>\n",
       "      <td>0.701331</td>\n",
       "      <td>0.274766</td>\n",
       "      <td>735.611693</td>\n",
       "      <td>147.849426</td>\n",
       "      <td>ck_med</td>\n",
       "    </tr>\n",
       "    <tr>\n",
       "      <th>284</th>\n",
       "      <td>1420.536153</td>\n",
       "      <td>275.481168</td>\n",
       "      <td>1015.442748</td>\n",
       "      <td>0.193928</td>\n",
       "      <td>0.714831</td>\n",
       "      <td>0.271292</td>\n",
       "      <td>766.606858</td>\n",
       "      <td>156.710024</td>\n",
       "      <td>ck_med</td>\n",
       "    </tr>\n",
       "    <tr>\n",
       "      <th>285</th>\n",
       "      <td>1393.953672</td>\n",
       "      <td>196.719824</td>\n",
       "      <td>1092.517596</td>\n",
       "      <td>0.141124</td>\n",
       "      <td>0.783755</td>\n",
       "      <td>0.180061</td>\n",
       "      <td>779.975532</td>\n",
       "      <td>148.275939</td>\n",
       "      <td>ck_med</td>\n",
       "    </tr>\n",
       "    <tr>\n",
       "      <th>286</th>\n",
       "      <td>1267.482134</td>\n",
       "      <td>253.493676</td>\n",
       "      <td>906.193736</td>\n",
       "      <td>0.199998</td>\n",
       "      <td>0.714956</td>\n",
       "      <td>0.279735</td>\n",
       "      <td>760.283782</td>\n",
       "      <td>139.385959</td>\n",
       "      <td>ck_med</td>\n",
       "    </tr>\n",
       "    <tr>\n",
       "      <th>287</th>\n",
       "      <td>1213.954381</td>\n",
       "      <td>280.524877</td>\n",
       "      <td>833.522461</td>\n",
       "      <td>0.231084</td>\n",
       "      <td>0.686618</td>\n",
       "      <td>0.336553</td>\n",
       "      <td>769.641956</td>\n",
       "      <td>149.396503</td>\n",
       "      <td>ck_med</td>\n",
       "    </tr>\n",
       "  </tbody>\n",
       "</table>\n",
       "<p>288 rows × 9 columns</p>\n",
       "</div>"
      ],
      "text/plain": [
       "      Total Power      Abs LFP      Abs HFP      nLFP      nHFP     LF/HF  \\\n",
       "0    11961.755298  3249.551607  8043.922163  0.271662  0.672470  0.403976   \n",
       "1     9211.352702  2022.717898  6829.397915  0.219590  0.741411  0.296178   \n",
       "2     9283.913716  2378.753676  6678.590063  0.256223  0.719372  0.356176   \n",
       "3     9994.154159  2431.402950  7008.622545  0.243283  0.701272  0.346916   \n",
       "4     9597.894148  1897.800009  7150.309660  0.197731  0.744987  0.265415   \n",
       "..            ...          ...          ...       ...       ...       ...   \n",
       "283   1160.095357   223.552939   813.610805  0.192702  0.701331  0.274766   \n",
       "284   1420.536153   275.481168  1015.442748  0.193928  0.714831  0.271292   \n",
       "285   1393.953672   196.719824  1092.517596  0.141124  0.783755  0.180061   \n",
       "286   1267.482134   253.493676   906.193736  0.199998  0.714956  0.279735   \n",
       "287   1213.954381   280.524877   833.522461  0.231084  0.686618  0.336553   \n",
       "\n",
       "          RMSSD        SDNN   label  \n",
       "0    932.714731   54.825976  ck_pre  \n",
       "1    803.437128  120.850089  ck_pre  \n",
       "2    793.228617  162.223603  ck_pre  \n",
       "3    865.589904   67.238339  ck_pre  \n",
       "4    852.451001   70.600140  ck_pre  \n",
       "..          ...         ...     ...  \n",
       "283  735.611693  147.849426  ck_med  \n",
       "284  766.606858  156.710024  ck_med  \n",
       "285  779.975532  148.275939  ck_med  \n",
       "286  760.283782  139.385959  ck_med  \n",
       "287  769.641956  149.396503  ck_med  \n",
       "\n",
       "[288 rows x 9 columns]"
      ]
     },
     "execution_count": 2,
     "metadata": {},
     "output_type": "execute_result"
    }
   ],
   "source": [
    "# read in features csv file\n",
    "df = pd.read_csv('ck_features.csv')\n",
    "df"
   ]
  },
  {
   "cell_type": "code",
   "execution_count": 3,
   "metadata": {},
   "outputs": [
    {
     "data": {
      "text/html": [
       "<div>\n",
       "<style scoped>\n",
       "    .dataframe tbody tr th:only-of-type {\n",
       "        vertical-align: middle;\n",
       "    }\n",
       "\n",
       "    .dataframe tbody tr th {\n",
       "        vertical-align: top;\n",
       "    }\n",
       "\n",
       "    .dataframe thead th {\n",
       "        text-align: right;\n",
       "    }\n",
       "</style>\n",
       "<table border=\"1\" class=\"dataframe\">\n",
       "  <thead>\n",
       "    <tr style=\"text-align: right;\">\n",
       "      <th></th>\n",
       "      <th>Total Power</th>\n",
       "      <th>Abs LFP</th>\n",
       "      <th>Abs HFP</th>\n",
       "      <th>nLFP</th>\n",
       "      <th>nHFP</th>\n",
       "      <th>LF/HF</th>\n",
       "      <th>RMSSD</th>\n",
       "      <th>SDNN</th>\n",
       "      <th>label</th>\n",
       "    </tr>\n",
       "  </thead>\n",
       "  <tbody>\n",
       "    <tr>\n",
       "      <th>0</th>\n",
       "      <td>11961.755298</td>\n",
       "      <td>3249.551607</td>\n",
       "      <td>8043.922163</td>\n",
       "      <td>0.271662</td>\n",
       "      <td>0.672470</td>\n",
       "      <td>0.403976</td>\n",
       "      <td>932.714731</td>\n",
       "      <td>54.825976</td>\n",
       "      <td>0</td>\n",
       "    </tr>\n",
       "    <tr>\n",
       "      <th>1</th>\n",
       "      <td>9211.352702</td>\n",
       "      <td>2022.717898</td>\n",
       "      <td>6829.397915</td>\n",
       "      <td>0.219590</td>\n",
       "      <td>0.741411</td>\n",
       "      <td>0.296178</td>\n",
       "      <td>803.437128</td>\n",
       "      <td>120.850089</td>\n",
       "      <td>0</td>\n",
       "    </tr>\n",
       "    <tr>\n",
       "      <th>2</th>\n",
       "      <td>9283.913716</td>\n",
       "      <td>2378.753676</td>\n",
       "      <td>6678.590063</td>\n",
       "      <td>0.256223</td>\n",
       "      <td>0.719372</td>\n",
       "      <td>0.356176</td>\n",
       "      <td>793.228617</td>\n",
       "      <td>162.223603</td>\n",
       "      <td>0</td>\n",
       "    </tr>\n",
       "    <tr>\n",
       "      <th>3</th>\n",
       "      <td>9994.154159</td>\n",
       "      <td>2431.402950</td>\n",
       "      <td>7008.622545</td>\n",
       "      <td>0.243283</td>\n",
       "      <td>0.701272</td>\n",
       "      <td>0.346916</td>\n",
       "      <td>865.589904</td>\n",
       "      <td>67.238339</td>\n",
       "      <td>0</td>\n",
       "    </tr>\n",
       "    <tr>\n",
       "      <th>4</th>\n",
       "      <td>9597.894148</td>\n",
       "      <td>1897.800009</td>\n",
       "      <td>7150.309660</td>\n",
       "      <td>0.197731</td>\n",
       "      <td>0.744987</td>\n",
       "      <td>0.265415</td>\n",
       "      <td>852.451001</td>\n",
       "      <td>70.600140</td>\n",
       "      <td>0</td>\n",
       "    </tr>\n",
       "    <tr>\n",
       "      <th>...</th>\n",
       "      <td>...</td>\n",
       "      <td>...</td>\n",
       "      <td>...</td>\n",
       "      <td>...</td>\n",
       "      <td>...</td>\n",
       "      <td>...</td>\n",
       "      <td>...</td>\n",
       "      <td>...</td>\n",
       "      <td>...</td>\n",
       "    </tr>\n",
       "    <tr>\n",
       "      <th>283</th>\n",
       "      <td>1160.095357</td>\n",
       "      <td>223.552939</td>\n",
       "      <td>813.610805</td>\n",
       "      <td>0.192702</td>\n",
       "      <td>0.701331</td>\n",
       "      <td>0.274766</td>\n",
       "      <td>735.611693</td>\n",
       "      <td>147.849426</td>\n",
       "      <td>1</td>\n",
       "    </tr>\n",
       "    <tr>\n",
       "      <th>284</th>\n",
       "      <td>1420.536153</td>\n",
       "      <td>275.481168</td>\n",
       "      <td>1015.442748</td>\n",
       "      <td>0.193928</td>\n",
       "      <td>0.714831</td>\n",
       "      <td>0.271292</td>\n",
       "      <td>766.606858</td>\n",
       "      <td>156.710024</td>\n",
       "      <td>1</td>\n",
       "    </tr>\n",
       "    <tr>\n",
       "      <th>285</th>\n",
       "      <td>1393.953672</td>\n",
       "      <td>196.719824</td>\n",
       "      <td>1092.517596</td>\n",
       "      <td>0.141124</td>\n",
       "      <td>0.783755</td>\n",
       "      <td>0.180061</td>\n",
       "      <td>779.975532</td>\n",
       "      <td>148.275939</td>\n",
       "      <td>1</td>\n",
       "    </tr>\n",
       "    <tr>\n",
       "      <th>286</th>\n",
       "      <td>1267.482134</td>\n",
       "      <td>253.493676</td>\n",
       "      <td>906.193736</td>\n",
       "      <td>0.199998</td>\n",
       "      <td>0.714956</td>\n",
       "      <td>0.279735</td>\n",
       "      <td>760.283782</td>\n",
       "      <td>139.385959</td>\n",
       "      <td>1</td>\n",
       "    </tr>\n",
       "    <tr>\n",
       "      <th>287</th>\n",
       "      <td>1213.954381</td>\n",
       "      <td>280.524877</td>\n",
       "      <td>833.522461</td>\n",
       "      <td>0.231084</td>\n",
       "      <td>0.686618</td>\n",
       "      <td>0.336553</td>\n",
       "      <td>769.641956</td>\n",
       "      <td>149.396503</td>\n",
       "      <td>1</td>\n",
       "    </tr>\n",
       "  </tbody>\n",
       "</table>\n",
       "<p>288 rows × 9 columns</p>\n",
       "</div>"
      ],
      "text/plain": [
       "      Total Power      Abs LFP      Abs HFP      nLFP      nHFP     LF/HF  \\\n",
       "0    11961.755298  3249.551607  8043.922163  0.271662  0.672470  0.403976   \n",
       "1     9211.352702  2022.717898  6829.397915  0.219590  0.741411  0.296178   \n",
       "2     9283.913716  2378.753676  6678.590063  0.256223  0.719372  0.356176   \n",
       "3     9994.154159  2431.402950  7008.622545  0.243283  0.701272  0.346916   \n",
       "4     9597.894148  1897.800009  7150.309660  0.197731  0.744987  0.265415   \n",
       "..            ...          ...          ...       ...       ...       ...   \n",
       "283   1160.095357   223.552939   813.610805  0.192702  0.701331  0.274766   \n",
       "284   1420.536153   275.481168  1015.442748  0.193928  0.714831  0.271292   \n",
       "285   1393.953672   196.719824  1092.517596  0.141124  0.783755  0.180061   \n",
       "286   1267.482134   253.493676   906.193736  0.199998  0.714956  0.279735   \n",
       "287   1213.954381   280.524877   833.522461  0.231084  0.686618  0.336553   \n",
       "\n",
       "          RMSSD        SDNN  label  \n",
       "0    932.714731   54.825976      0  \n",
       "1    803.437128  120.850089      0  \n",
       "2    793.228617  162.223603      0  \n",
       "3    865.589904   67.238339      0  \n",
       "4    852.451001   70.600140      0  \n",
       "..          ...         ...    ...  \n",
       "283  735.611693  147.849426      1  \n",
       "284  766.606858  156.710024      1  \n",
       "285  779.975532  148.275939      1  \n",
       "286  760.283782  139.385959      1  \n",
       "287  769.641956  149.396503      1  \n",
       "\n",
       "[288 rows x 9 columns]"
      ]
     },
     "execution_count": 3,
     "metadata": {},
     "output_type": "execute_result"
    }
   ],
   "source": [
    "# encode meditative/non-meditative labels\n",
    "categories = {'ck_pre':0,'ck_med':1}\n",
    "df['label'] = df['label'].replace(categories)\n",
    "df"
   ]
  },
  {
   "cell_type": "code",
   "execution_count": 4,
   "metadata": {},
   "outputs": [],
   "source": [
    "# split dependent and independent variables\n",
    "# target variable\n",
    "Y = df['label'].values\n",
    "# features\n",
    "X = df.drop(labels = ['label'], axis = 1)\n",
    "features_list = list(X.columns)\n",
    "\n",
    "# Standardizing the features\n",
    "X = StandardScaler().fit_transform(X)"
   ]
  },
  {
   "cell_type": "code",
   "execution_count": 5,
   "metadata": {},
   "outputs": [],
   "source": [
    "# split training and testing dataset: 70% training, 30% testing\n",
    "X_train,X_test,y_train,y_test = train_test_split(X,Y,test_size = 0.3,random_state = 42)"
   ]
  },
  {
   "cell_type": "markdown",
   "metadata": {},
   "source": [
    "## Linear SVM"
   ]
  },
  {
   "cell_type": "code",
   "execution_count": 6,
   "metadata": {},
   "outputs": [
    {
     "data": {
      "text/plain": [
       "{'loss': ['hinge', 'squared_hinge'],\n",
       " 'dual': [True, False],\n",
       " 'tol': [0.001, 0.0001, 1e-05]}"
      ]
     },
     "execution_count": 6,
     "metadata": {},
     "output_type": "execute_result"
    }
   ],
   "source": [
    "# create lists of possible parameters for linear SVM\n",
    "# to be used in grid search to find the best possible parameters later\n",
    "\n",
    "lin_clf_loss = ['hinge', 'squared_hinge']\n",
    "lin_clf_dual = [True,False]\n",
    "lin_clf_tol = [0.001,0.0001,0.00001]\n",
    "\n",
    "# Create the grid\n",
    "lin_grid = {'loss': lin_clf_loss,\n",
    "               'dual': lin_clf_dual,\n",
    "               'tol': lin_clf_tol}\n",
    "\n",
    "lin_grid"
   ]
  },
  {
   "cell_type": "code",
   "execution_count": 7,
   "metadata": {},
   "outputs": [
    {
     "name": "stdout",
     "output_type": "stream",
     "text": [
      "Wed Apr 14 19:24:57 2021\n",
      "Fitting 10 folds for each of 12 candidates, totalling 120 fits\n"
     ]
    },
    {
     "name": "stderr",
     "output_type": "stream",
     "text": [
      "/opt/anaconda3/envs/myenv/lib/python3.8/site-packages/sklearn/model_selection/_search.py:278: UserWarning: The total space of parameters 12 is smaller than n_iter=20. Running 12 iterations. For exhaustive searches, use GridSearchCV.\n",
      "  warnings.warn(\n",
      "[Parallel(n_jobs=-1)]: Using backend LokyBackend with 4 concurrent workers.\n",
      "[Parallel(n_jobs=-1)]: Done  33 tasks      | elapsed:    3.3s\n"
     ]
    },
    {
     "name": "stdout",
     "output_type": "stream",
     "text": [
      "Wed Apr 14 19:25:01 2021\n"
     ]
    },
    {
     "name": "stderr",
     "output_type": "stream",
     "text": [
      "[Parallel(n_jobs=-1)]: Done 120 out of 120 | elapsed:    4.4s finished\n"
     ]
    }
   ],
   "source": [
    "# run parameters through model and find best set of parameters\n",
    "# this step splits the training data into mini train/test datasets to find the best hyperparameters for the model\n",
    "\n",
    "import time\n",
    "print(time.ctime(time.time()))\n",
    "\n",
    "# Create the model to be tuned\n",
    "lin_base = svm.LinearSVC()\n",
    "\n",
    "# Create the random search to find best hyperparameters\n",
    "lin_random = RandomizedSearchCV(estimator = lin_base, \n",
    "                                param_distributions = lin_grid, \n",
    "                                n_iter = 20,\n",
    "                                cv = 10, \n",
    "                                verbose = 2, \n",
    "                                random_state = 42, \n",
    "                                n_jobs = -1)\n",
    "\n",
    "# Fit the random search model on training data\n",
    "lin_random.fit(X_train, y_train)\n",
    "\n",
    "print(time.ctime(time.time()))"
   ]
  },
  {
   "cell_type": "code",
   "execution_count": 8,
   "metadata": {},
   "outputs": [
    {
     "data": {
      "text/plain": [
       "{'tol': 0.001, 'loss': 'squared_hinge', 'dual': True}"
      ]
     },
     "execution_count": 8,
     "metadata": {},
     "output_type": "execute_result"
    }
   ],
   "source": [
    "# show best set of parameters\n",
    "lin_random.best_params_"
   ]
  },
  {
   "cell_type": "code",
   "execution_count": 6,
   "metadata": {},
   "outputs": [],
   "source": [
    "# Create the linear SVM model\n",
    "lin_model = svm.LinearSVC(tol = 0.001,\n",
    "                      loss = 'squared_hinge',\n",
    "                      dual = True,\n",
    "                      random_state = 42)"
   ]
  },
  {
   "cell_type": "code",
   "execution_count": 7,
   "metadata": {},
   "outputs": [
    {
     "data": {
      "text/plain": [
       "LinearSVC(random_state=42, tol=0.001)"
      ]
     },
     "execution_count": 7,
     "metadata": {},
     "output_type": "execute_result"
    }
   ],
   "source": [
    "# fit model\n",
    "lin_model.fit(X_train,y_train)"
   ]
  },
  {
   "cell_type": "code",
   "execution_count": 8,
   "metadata": {},
   "outputs": [],
   "source": [
    "# predict y values from testing data\n",
    "y_pred = lin_model.predict(X_test)"
   ]
  },
  {
   "cell_type": "code",
   "execution_count": 9,
   "metadata": {},
   "outputs": [
    {
     "data": {
      "text/html": [
       "<div>\n",
       "<style scoped>\n",
       "    .dataframe tbody tr th:only-of-type {\n",
       "        vertical-align: middle;\n",
       "    }\n",
       "\n",
       "    .dataframe tbody tr th {\n",
       "        vertical-align: top;\n",
       "    }\n",
       "\n",
       "    .dataframe thead th {\n",
       "        text-align: right;\n",
       "    }\n",
       "</style>\n",
       "<table border=\"1\" class=\"dataframe\">\n",
       "  <thead>\n",
       "    <tr style=\"text-align: right;\">\n",
       "      <th>Predicted</th>\n",
       "      <th>Non-Meditative</th>\n",
       "      <th>Meditative</th>\n",
       "    </tr>\n",
       "    <tr>\n",
       "      <th>Actual</th>\n",
       "      <th></th>\n",
       "      <th></th>\n",
       "    </tr>\n",
       "  </thead>\n",
       "  <tbody>\n",
       "    <tr>\n",
       "      <th>Non-Meditative</th>\n",
       "      <td>37</td>\n",
       "      <td>7</td>\n",
       "    </tr>\n",
       "    <tr>\n",
       "      <th>Meditative</th>\n",
       "      <td>9</td>\n",
       "      <td>34</td>\n",
       "    </tr>\n",
       "  </tbody>\n",
       "</table>\n",
       "</div>"
      ],
      "text/plain": [
       "Predicted       Non-Meditative  Meditative\n",
       "Actual                                    \n",
       "Non-Meditative              37           7\n",
       "Meditative                   9          34"
      ]
     },
     "execution_count": 9,
     "metadata": {},
     "output_type": "execute_result"
    }
   ],
   "source": [
    "# display results in confusion matrix\n",
    "cm = confusion_matrix(y_test,y_pred)\n",
    "cm\n",
    "\n",
    "results = pd.crosstab(y_test, y_pred, colnames=['Predicted'])\n",
    "results = results.rename(columns={0: 'Non-Meditative', 1: 'Meditative'})\n",
    "results.index = ['Non-Meditative', 'Meditative']\n",
    "index = results.index\n",
    "index.name = \"Actual\"\n",
    "results"
   ]
  },
  {
   "cell_type": "code",
   "execution_count": 10,
   "metadata": {},
   "outputs": [
    {
     "name": "stdout",
     "output_type": "stream",
     "text": [
      "                precision    recall  f1-score   support\n",
      "\n",
      "Non-Meditative       0.80      0.84      0.82        44\n",
      "    Meditative       0.83      0.79      0.81        43\n",
      "\n",
      "      accuracy                           0.82        87\n",
      "     macro avg       0.82      0.82      0.82        87\n",
      "  weighted avg       0.82      0.82      0.82        87\n",
      "\n"
     ]
    }
   ],
   "source": [
    "target_names = ['Non-Meditative', 'Meditative']\n",
    "print(classification_report(y_test, y_pred, target_names=target_names))"
   ]
  },
  {
   "cell_type": "code",
   "execution_count": 11,
   "metadata": {},
   "outputs": [
    {
     "name": "stdout",
     "output_type": "stream",
     "text": [
      "Linear SVM\n",
      "\n",
      "Sensitivity = 0.791\n",
      "Accuracy = 0.816\n",
      "Precision = 0.829\n",
      "Matthew Correlation Coefficient = 0.633\n"
     ]
    }
   ],
   "source": [
    "# store metrics for comparision amongst SVM kernels later\n",
    "svm_rec = []\n",
    "svm_acc = []\n",
    "svm_pre = []\n",
    "svm_mcc = []\n",
    "\n",
    "# obtain metrics for model\n",
    "recall = metrics.recall_score(y_test,y_pred)\n",
    "accuracy = metrics.accuracy_score(y_test,y_pred)\n",
    "precision = metrics.precision_score(y_test,y_pred)\n",
    "mcc = metrics.matthews_corrcoef(y_test,y_pred)\n",
    "\n",
    "svm_rec.append(recall)\n",
    "svm_acc.append(accuracy)\n",
    "svm_pre.append(precision)\n",
    "svm_mcc.append(mcc)\n",
    "\n",
    "# display metrics\n",
    "print('Linear SVM\\n')\n",
    "print('Sensitivity = %.3f' % recall)\n",
    "print('Accuracy = %.3f' % accuracy)\n",
    "print('Precision = %.3f' % precision)\n",
    "print('Matthew Correlation Coefficient = %.3f' % mcc)\n"
   ]
  },
  {
   "cell_type": "code",
   "execution_count": 12,
   "metadata": {},
   "outputs": [
    {
     "data": {
      "text/plain": [
       "Abs LFP        1.209159\n",
       "SDNN           0.328190\n",
       "Total Power    0.302592\n",
       "RMSSD         -0.353894\n",
       "LF/HF         -0.446822\n",
       "Abs HFP       -0.842119\n",
       "nHFP          -1.254099\n",
       "nLFP          -1.986256\n",
       "dtype: float64"
      ]
     },
     "execution_count": 12,
     "metadata": {},
     "output_type": "execute_result"
    }
   ],
   "source": [
    "# show most important features when determining classification category\n",
    "feature_imp = pd.Series(lin_model.coef_[0], index = features_list).sort_values(ascending = False)\n",
    "feature_imp"
   ]
  },
  {
   "cell_type": "markdown",
   "metadata": {},
   "source": [
    "## Radial Basis Function SVM"
   ]
  },
  {
   "cell_type": "code",
   "execution_count": 38,
   "metadata": {},
   "outputs": [
    {
     "data": {
      "text/plain": [
       "{'gamma': [0.1, 1, 'scale', 'auto'], 'tol': [0.001, 0.0001, 1e-05]}"
      ]
     },
     "execution_count": 38,
     "metadata": {},
     "output_type": "execute_result"
    }
   ],
   "source": [
    "# create lists of possible parameters for rbf SVM\n",
    "# to be used in grid search to find the best possible parameters later\n",
    "\n",
    "rbf_gamma = [0.1, 1,'scale','auto']\n",
    "rbf_tol = [0.001,0.0001,0.00001]\n",
    "\n",
    "# Create the grid\n",
    "rbf_grid = {'gamma': rbf_gamma,\n",
    "               'tol': rbf_tol}\n",
    "\n",
    "rbf_grid\n"
   ]
  },
  {
   "cell_type": "code",
   "execution_count": 39,
   "metadata": {},
   "outputs": [
    {
     "name": "stdout",
     "output_type": "stream",
     "text": [
      "Wed Apr 14 19:45:50 2021\n",
      "Fitting 10 folds for each of 10 candidates, totalling 100 fits\n"
     ]
    },
    {
     "name": "stderr",
     "output_type": "stream",
     "text": [
      "[Parallel(n_jobs=-1)]: Using backend LokyBackend with 4 concurrent workers.\n",
      "[Parallel(n_jobs=-1)]: Done  93 tasks      | elapsed:    0.4s\n"
     ]
    },
    {
     "name": "stdout",
     "output_type": "stream",
     "text": [
      "Wed Apr 14 19:45:51 2021\n"
     ]
    },
    {
     "name": "stderr",
     "output_type": "stream",
     "text": [
      "[Parallel(n_jobs=-1)]: Done 100 out of 100 | elapsed:    0.8s finished\n"
     ]
    }
   ],
   "source": [
    "# run parameters and find set with best score\n",
    "# this step splits the training data into mini train/test datasets to find the best hyperparameters for the model\n",
    "\n",
    "print(time.ctime(time.time()))\n",
    "\n",
    "# Create the model to be tuned\n",
    "rbf_base = svm.SVC(kernel = 'rbf')\n",
    "\n",
    "# Create the random search to find best hyperparameters\n",
    "rbf_random = RandomizedSearchCV(estimator = rbf_base, \n",
    "                                param_distributions = rbf_grid, \n",
    "                                n_iter = 10,\n",
    "                                cv = 10, \n",
    "                                verbose = 2, \n",
    "                                random_state = 42, \n",
    "                                n_jobs = -1)\n",
    "\n",
    "# Fit the random search model on training data\n",
    "rbf_random.fit(X_train, y_train)\n",
    "\n",
    "print(time.ctime(time.time()))"
   ]
  },
  {
   "cell_type": "code",
   "execution_count": 40,
   "metadata": {},
   "outputs": [
    {
     "data": {
      "text/plain": [
       "{'tol': 1e-05, 'gamma': 1}"
      ]
     },
     "execution_count": 40,
     "metadata": {},
     "output_type": "execute_result"
    }
   ],
   "source": [
    "# display best rbf svm parameters\n",
    "rbf_random.best_params_"
   ]
  },
  {
   "cell_type": "code",
   "execution_count": 13,
   "metadata": {},
   "outputs": [
    {
     "data": {
      "text/html": [
       "<div>\n",
       "<style scoped>\n",
       "    .dataframe tbody tr th:only-of-type {\n",
       "        vertical-align: middle;\n",
       "    }\n",
       "\n",
       "    .dataframe tbody tr th {\n",
       "        vertical-align: top;\n",
       "    }\n",
       "\n",
       "    .dataframe thead th {\n",
       "        text-align: right;\n",
       "    }\n",
       "</style>\n",
       "<table border=\"1\" class=\"dataframe\">\n",
       "  <thead>\n",
       "    <tr style=\"text-align: right;\">\n",
       "      <th>Predicted</th>\n",
       "      <th>Non-Meditative</th>\n",
       "      <th>Meditative</th>\n",
       "    </tr>\n",
       "    <tr>\n",
       "      <th>Actual</th>\n",
       "      <th></th>\n",
       "      <th></th>\n",
       "    </tr>\n",
       "  </thead>\n",
       "  <tbody>\n",
       "    <tr>\n",
       "      <th>Non-Meditative</th>\n",
       "      <td>37</td>\n",
       "      <td>7</td>\n",
       "    </tr>\n",
       "    <tr>\n",
       "      <th>Meditative</th>\n",
       "      <td>4</td>\n",
       "      <td>39</td>\n",
       "    </tr>\n",
       "  </tbody>\n",
       "</table>\n",
       "</div>"
      ],
      "text/plain": [
       "Predicted       Non-Meditative  Meditative\n",
       "Actual                                    \n",
       "Non-Meditative              37           7\n",
       "Meditative                   4          39"
      ]
     },
     "execution_count": 13,
     "metadata": {},
     "output_type": "execute_result"
    }
   ],
   "source": [
    "# Create the rbf SVM model\n",
    "rbf_model = svm.SVC(kernel = 'rbf',\n",
    "                    tol = 0.001,\n",
    "                      gamma = 1,\n",
    "                      random_state = 42)\n",
    "\n",
    "# fit model\n",
    "rbf_model.fit(X_train,y_train)\n",
    "\n",
    "# predict testing data\n",
    "y_pred = rbf_model.predict(X_test)\n",
    "\n",
    "# display confusion matrix\n",
    "results = pd.crosstab(y_test, y_pred, colnames=['Predicted'])\n",
    "results = results.rename(columns={0: 'Non-Meditative', 1: 'Meditative'})\n",
    "results.index = ['Non-Meditative', 'Meditative']\n",
    "index = results.index\n",
    "index.name = \"Actual\"\n",
    "results"
   ]
  },
  {
   "cell_type": "code",
   "execution_count": 14,
   "metadata": {},
   "outputs": [
    {
     "name": "stdout",
     "output_type": "stream",
     "text": [
      "Radial Basic Function SVM\n",
      "\n",
      "Sensitivity = 0.907\n",
      "Accuracy = 0.874\n",
      "Precision = 0.848\n",
      "Matthew Correlation Coefficient = 0.749\n"
     ]
    }
   ],
   "source": [
    "# obtain metrics of rbf model\n",
    "recall = metrics.recall_score(y_test,y_pred)\n",
    "accuracy = metrics.accuracy_score(y_test,y_pred)\n",
    "precision = metrics.precision_score(y_test,y_pred)\n",
    "mcc = metrics.matthews_corrcoef(y_test,y_pred)\n",
    "\n",
    "svm_rec.append(recall)\n",
    "svm_acc.append(accuracy)\n",
    "svm_pre.append(precision)\n",
    "svm_mcc.append(mcc)\n",
    "\n",
    "print('Radial Basic Function SVM\\n')\n",
    "print('Sensitivity = %.3f' % recall)\n",
    "print('Accuracy = %.3f' % accuracy)\n",
    "print('Precision = %.3f' % precision)\n",
    "print('Matthew Correlation Coefficient = %.3f' % mcc)"
   ]
  },
  {
   "cell_type": "markdown",
   "metadata": {},
   "source": [
    "## Polynomial SVM"
   ]
  },
  {
   "cell_type": "code",
   "execution_count": 46,
   "metadata": {},
   "outputs": [
    {
     "data": {
      "text/plain": [
       "{'gamma': [0.1, 1, 'scale', 'auto'],\n",
       " 'degree': [2, 3, 4, 5, 6, 7],\n",
       " 'tol': [0.001, 0.0001, 1e-05]}"
      ]
     },
     "execution_count": 46,
     "metadata": {},
     "output_type": "execute_result"
    }
   ],
   "source": [
    "# create lists of possible parameters for polynomial SVM\n",
    "# to be used in grid search to find the best possible parameters later\n",
    "\n",
    "poly_degree = [2,3,4,5,6,7]\n",
    "poly_gamma = [0.1, 1,'scale','auto']\n",
    "poly_tol = [0.001,0.0001,0.00001]\n",
    "\n",
    "# Create the grid\n",
    "poly_grid = {'gamma': poly_gamma,\n",
    "            'degree': poly_degree,\n",
    "               'tol': poly_tol}\n",
    "\n",
    "poly_grid\n"
   ]
  },
  {
   "cell_type": "code",
   "execution_count": 48,
   "metadata": {},
   "outputs": [
    {
     "name": "stdout",
     "output_type": "stream",
     "text": [
      "Wed Apr 14 19:51:06 2021\n",
      "Fitting 10 folds for each of 72 candidates, totalling 720 fits\n"
     ]
    },
    {
     "name": "stderr",
     "output_type": "stream",
     "text": [
      "/opt/anaconda3/envs/myenv/lib/python3.8/site-packages/sklearn/model_selection/_search.py:278: UserWarning: The total space of parameters 72 is smaller than n_iter=100. Running 72 iterations. For exhaustive searches, use GridSearchCV.\n",
      "  warnings.warn(\n",
      "[Parallel(n_jobs=-1)]: Using backend LokyBackend with 4 concurrent workers.\n",
      "[Parallel(n_jobs=-1)]: Done  92 tasks      | elapsed:    1.2s\n"
     ]
    },
    {
     "name": "stdout",
     "output_type": "stream",
     "text": [
      "Wed Apr 14 19:51:12 2021\n"
     ]
    },
    {
     "name": "stderr",
     "output_type": "stream",
     "text": [
      "[Parallel(n_jobs=-1)]: Done 720 out of 720 | elapsed:    6.5s finished\n"
     ]
    }
   ],
   "source": [
    "# this step splits the training data into mini train/test datasets to find the best hyperparameters for the model\n",
    "\n",
    "print(time.ctime(time.time()))\n",
    "\n",
    "# Create the model to be tuned\n",
    "poly_base = svm.SVC(kernel = 'poly')\n",
    "\n",
    "# Create the random search to find best hyperparameters\n",
    "poly_random = RandomizedSearchCV(estimator = poly_base, \n",
    "                                param_distributions = poly_grid, \n",
    "                                n_iter = 100,\n",
    "                                cv = 10, \n",
    "                                verbose = 2, \n",
    "                                random_state = 42, \n",
    "                                n_jobs = -1)\n",
    "\n",
    "# Fit the random search model on training data\n",
    "poly_random.fit(X_train, y_train)\n",
    "\n",
    "print(time.ctime(time.time()))"
   ]
  },
  {
   "cell_type": "code",
   "execution_count": 49,
   "metadata": {},
   "outputs": [
    {
     "data": {
      "text/plain": [
       "{'tol': 0.001, 'gamma': 1, 'degree': 3}"
      ]
     },
     "execution_count": 49,
     "metadata": {},
     "output_type": "execute_result"
    }
   ],
   "source": [
    "# display best polynomial svm parameters\n",
    "poly_random.best_params_"
   ]
  },
  {
   "cell_type": "code",
   "execution_count": 15,
   "metadata": {},
   "outputs": [
    {
     "data": {
      "text/html": [
       "<div>\n",
       "<style scoped>\n",
       "    .dataframe tbody tr th:only-of-type {\n",
       "        vertical-align: middle;\n",
       "    }\n",
       "\n",
       "    .dataframe tbody tr th {\n",
       "        vertical-align: top;\n",
       "    }\n",
       "\n",
       "    .dataframe thead th {\n",
       "        text-align: right;\n",
       "    }\n",
       "</style>\n",
       "<table border=\"1\" class=\"dataframe\">\n",
       "  <thead>\n",
       "    <tr style=\"text-align: right;\">\n",
       "      <th>Predicted</th>\n",
       "      <th>Non-Meditative</th>\n",
       "      <th>Meditative</th>\n",
       "    </tr>\n",
       "    <tr>\n",
       "      <th>Actual</th>\n",
       "      <th></th>\n",
       "      <th></th>\n",
       "    </tr>\n",
       "  </thead>\n",
       "  <tbody>\n",
       "    <tr>\n",
       "      <th>Non-Meditative</th>\n",
       "      <td>40</td>\n",
       "      <td>4</td>\n",
       "    </tr>\n",
       "    <tr>\n",
       "      <th>Meditative</th>\n",
       "      <td>6</td>\n",
       "      <td>37</td>\n",
       "    </tr>\n",
       "  </tbody>\n",
       "</table>\n",
       "</div>"
      ],
      "text/plain": [
       "Predicted       Non-Meditative  Meditative\n",
       "Actual                                    \n",
       "Non-Meditative              40           4\n",
       "Meditative                   6          37"
      ]
     },
     "execution_count": 15,
     "metadata": {},
     "output_type": "execute_result"
    }
   ],
   "source": [
    "# Create the poly SVM model\n",
    "poly_model = svm.SVC(kernel = 'poly',\n",
    "                    tol = 0.001,\n",
    "                    gamma = 1,\n",
    "                    degree = 3,\n",
    "                    random_state = 42)\n",
    "\n",
    "# fit model\n",
    "poly_model.fit(X_train,y_train)\n",
    "\n",
    "# predict test data\n",
    "y_pred = poly_model.predict(X_test)\n",
    "\n",
    "# confusion matrix\n",
    "results = pd.crosstab(y_test, y_pred, colnames=['Predicted'])\n",
    "results = results.rename(columns={0: 'Non-Meditative', 1: 'Meditative'})\n",
    "results.index = ['Non-Meditative', 'Meditative']\n",
    "index = results.index\n",
    "index.name = \"Actual\"\n",
    "results"
   ]
  },
  {
   "cell_type": "code",
   "execution_count": 16,
   "metadata": {},
   "outputs": [
    {
     "name": "stdout",
     "output_type": "stream",
     "text": [
      "Polynomial SVM\n",
      "\n",
      "Sensitivity = 0.860\n",
      "Accuracy = 0.885\n",
      "Precision = 0.902\n",
      "Matthew Correlation Coefficient = 0.771\n"
     ]
    }
   ],
   "source": [
    "# evaluation metrics of poly svm model\n",
    "recall = metrics.recall_score(y_test,y_pred)\n",
    "accuracy = metrics.accuracy_score(y_test,y_pred)\n",
    "precision = metrics.precision_score(y_test,y_pred)\n",
    "mcc = metrics.matthews_corrcoef(y_test,y_pred)\n",
    "\n",
    "svm_rec.append(recall)\n",
    "svm_acc.append(accuracy)\n",
    "svm_pre.append(precision)\n",
    "svm_mcc.append(mcc)\n",
    "\n",
    "print('Polynomial SVM\\n')\n",
    "print('Sensitivity = %.3f' % recall)\n",
    "print('Accuracy = %.3f' % accuracy)\n",
    "print('Precision = %.3f' % precision)\n",
    "print('Matthew Correlation Coefficient = %.3f' % mcc)"
   ]
  },
  {
   "cell_type": "markdown",
   "metadata": {},
   "source": [
    "### Comparison Between SVM models"
   ]
  },
  {
   "cell_type": "code",
   "execution_count": 20,
   "metadata": {},
   "outputs": [
    {
     "data": {
      "text/html": [
       "<div>\n",
       "<style scoped>\n",
       "    .dataframe tbody tr th:only-of-type {\n",
       "        vertical-align: middle;\n",
       "    }\n",
       "\n",
       "    .dataframe tbody tr th {\n",
       "        vertical-align: top;\n",
       "    }\n",
       "\n",
       "    .dataframe thead th {\n",
       "        text-align: right;\n",
       "    }\n",
       "</style>\n",
       "<table border=\"1\" class=\"dataframe\">\n",
       "  <thead>\n",
       "    <tr style=\"text-align: right;\">\n",
       "      <th></th>\n",
       "      <th>svm kernel</th>\n",
       "      <th>sensitivity</th>\n",
       "      <th>accuracy</th>\n",
       "      <th>precision</th>\n",
       "      <th>mcc</th>\n",
       "    </tr>\n",
       "  </thead>\n",
       "  <tbody>\n",
       "    <tr>\n",
       "      <th>0</th>\n",
       "      <td>linear</td>\n",
       "      <td>0.790698</td>\n",
       "      <td>0.816092</td>\n",
       "      <td>0.829268</td>\n",
       "      <td>0.632611</td>\n",
       "    </tr>\n",
       "    <tr>\n",
       "      <th>1</th>\n",
       "      <td>rbf</td>\n",
       "      <td>0.906977</td>\n",
       "      <td>0.873563</td>\n",
       "      <td>0.847826</td>\n",
       "      <td>0.749075</td>\n",
       "    </tr>\n",
       "    <tr>\n",
       "      <th>2</th>\n",
       "      <td>poly</td>\n",
       "      <td>0.860465</td>\n",
       "      <td>0.885057</td>\n",
       "      <td>0.902439</td>\n",
       "      <td>0.770779</td>\n",
       "    </tr>\n",
       "  </tbody>\n",
       "</table>\n",
       "</div>"
      ],
      "text/plain": [
       "  svm kernel  sensitivity  accuracy  precision       mcc\n",
       "0     linear     0.790698  0.816092   0.829268  0.632611\n",
       "1        rbf     0.906977  0.873563   0.847826  0.749075\n",
       "2       poly     0.860465  0.885057   0.902439  0.770779"
      ]
     },
     "execution_count": 20,
     "metadata": {},
     "output_type": "execute_result"
    }
   ],
   "source": [
    "df = pd.DataFrame()\n",
    "\n",
    "df['svm kernel'] = ['linear','rbf','poly']\n",
    "df['sensitivity'] = svm_rec\n",
    "df['accuracy'] = svm_acc\n",
    "df['precision'] = svm_pre\n",
    "df['mcc'] = svm_mcc\n",
    "\n",
    "df"
   ]
  },
  {
   "cell_type": "code",
   "execution_count": 58,
   "metadata": {},
   "outputs": [
    {
     "data": {
      "image/png": "[encoded data removed]",
      "text/plain": [
       "<Figure size 720x480 with 2 Axes>"
      ]
     },
     "metadata": {
      "needs_background": "light"
     },
     "output_type": "display_data"
    }
   ],
   "source": [
    "y_axis_labels = ['linear','rbf','polynomial']\n",
    "\n",
    "plt.figure(dpi = 120)\n",
    "ax = sns.heatmap(df.iloc[:, 1:],\n",
    "                 cmap = 'GnBu',\n",
    "                 annot = True,\n",
    "                 yticklabels = y_axis_labels,\n",
    "                )\n",
    "\n",
    "plt.yticks(rotation=0) \n",
    "plt.show()"
   ]
  },
  {
   "cell_type": "markdown",
   "metadata": {},
   "source": [
    "Polynomial SVM showed best performance overall"
   ]
  },
  {
   "cell_type": "code",
   "execution_count": null,
   "metadata": {},
   "outputs": [],
   "source": []
  }
 ],
 "metadata": {
  "kernelspec": {
   "display_name": "Python 3",
   "language": "python",
   "name": "python3"
  },
  "language_info": {
   "codemirror_mode": {
    "name": "ipython",
    "version": 3
   },
   "file_extension": ".py",
   "mimetype": "text/x-python",
   "name": "python",
   "nbconvert_exporter": "python",
   "pygments_lexer": "ipython3",
   "version": "3.8.8"
  }
 },
 "nbformat": 4,
 "nbformat_minor": 2
}
