{
 "cells": [
  {
   "cell_type": "markdown",
   "metadata": {},
   "source": [
    "# Support Vector Machine (SVM) Classification on PCA dataset"
   ]
  },
  {
   "cell_type": "markdown",
   "metadata": {},
   "source": [
    "Link to Excel file of extracted features: https://drive.google.com/drive/u/1/folders/1ZMbW7HxNkBUAlnT-_lXLD4J_r0A778SJ"
   ]
  },
  {
   "cell_type": "code",
   "execution_count": 2,
   "metadata": {},
   "outputs": [],
   "source": [
    "# import required packages\n",
    "import numpy as np\n",
    "import pandas as pd\n",
    "import matplotlib\n",
    "import matplotlib.pyplot as plt\n",
    "import seaborn as sns\n",
    "from sklearn.preprocessing import StandardScaler\n",
    "from sklearn.model_selection import train_test_split\n",
    "from sklearn import svm\n",
    "from sklearn.metrics import confusion_matrix\n",
    "from sklearn import metrics\n",
    "from sklearn.metrics import classification_report\n",
    "from sklearn.model_selection import RandomizedSearchCV\n"
   ]
  },
  {
   "cell_type": "code",
   "execution_count": 3,
   "metadata": {
    "scrolled": true
   },
   "outputs": [
    {
     "data": {
      "text/html": [
       "<div>\n",
       "<style scoped>\n",
       "    .dataframe tbody tr th:only-of-type {\n",
       "        vertical-align: middle;\n",
       "    }\n",
       "\n",
       "    .dataframe tbody tr th {\n",
       "        vertical-align: top;\n",
       "    }\n",
       "\n",
       "    .dataframe thead th {\n",
       "        text-align: right;\n",
       "    }\n",
       "</style>\n",
       "<table border=\"1\" class=\"dataframe\">\n",
       "  <thead>\n",
       "    <tr style=\"text-align: right;\">\n",
       "      <th></th>\n",
       "      <th>PC1</th>\n",
       "      <th>PC2</th>\n",
       "      <th>PC3</th>\n",
       "      <th>PC4</th>\n",
       "      <th>PC5</th>\n",
       "      <th>label</th>\n",
       "    </tr>\n",
       "  </thead>\n",
       "  <tbody>\n",
       "    <tr>\n",
       "      <th>0</th>\n",
       "      <td>3.578898</td>\n",
       "      <td>0.395738</td>\n",
       "      <td>-0.047779</td>\n",
       "      <td>0.014839</td>\n",
       "      <td>-0.042165</td>\n",
       "      <td>ck_pre</td>\n",
       "    </tr>\n",
       "    <tr>\n",
       "      <th>1</th>\n",
       "      <td>0.336555</td>\n",
       "      <td>-0.201751</td>\n",
       "      <td>1.707125</td>\n",
       "      <td>0.596749</td>\n",
       "      <td>-0.009439</td>\n",
       "      <td>ck_pre</td>\n",
       "    </tr>\n",
       "    <tr>\n",
       "      <th>2</th>\n",
       "      <td>1.249003</td>\n",
       "      <td>0.456976</td>\n",
       "      <td>2.923192</td>\n",
       "      <td>1.710269</td>\n",
       "      <td>-0.003426</td>\n",
       "      <td>ck_pre</td>\n",
       "    </tr>\n",
       "    <tr>\n",
       "      <th>3</th>\n",
       "      <td>1.895098</td>\n",
       "      <td>0.237179</td>\n",
       "      <td>0.107955</td>\n",
       "      <td>0.098686</td>\n",
       "      <td>-0.021157</td>\n",
       "      <td>ck_pre</td>\n",
       "    </tr>\n",
       "    <tr>\n",
       "      <th>4</th>\n",
       "      <td>0.187784</td>\n",
       "      <td>-0.567702</td>\n",
       "      <td>0.276168</td>\n",
       "      <td>-0.571162</td>\n",
       "      <td>-0.005510</td>\n",
       "      <td>ck_pre</td>\n",
       "    </tr>\n",
       "    <tr>\n",
       "      <th>...</th>\n",
       "      <td>...</td>\n",
       "      <td>...</td>\n",
       "      <td>...</td>\n",
       "      <td>...</td>\n",
       "      <td>...</td>\n",
       "      <td>...</td>\n",
       "    </tr>\n",
       "    <tr>\n",
       "      <th>283</th>\n",
       "      <td>-1.933990</td>\n",
       "      <td>2.119364</td>\n",
       "      <td>1.530949</td>\n",
       "      <td>1.577346</td>\n",
       "      <td>1.010596</td>\n",
       "      <td>ck_med</td>\n",
       "    </tr>\n",
       "    <tr>\n",
       "      <th>284</th>\n",
       "      <td>-2.009835</td>\n",
       "      <td>2.035656</td>\n",
       "      <td>1.940617</td>\n",
       "      <td>1.466609</td>\n",
       "      <td>0.787319</td>\n",
       "      <td>ck_med</td>\n",
       "    </tr>\n",
       "    <tr>\n",
       "      <th>285</th>\n",
       "      <td>-3.796804</td>\n",
       "      <td>0.768672</td>\n",
       "      <td>1.941153</td>\n",
       "      <td>0.378488</td>\n",
       "      <td>0.410919</td>\n",
       "      <td>ck_med</td>\n",
       "    </tr>\n",
       "    <tr>\n",
       "      <th>286</th>\n",
       "      <td>-1.834836</td>\n",
       "      <td>2.069482</td>\n",
       "      <td>1.382685</td>\n",
       "      <td>1.389709</td>\n",
       "      <td>0.583992</td>\n",
       "      <td>ck_med</td>\n",
       "    </tr>\n",
       "    <tr>\n",
       "      <th>287</th>\n",
       "      <td>-0.895038</td>\n",
       "      <td>2.804296</td>\n",
       "      <td>1.611100</td>\n",
       "      <td>1.983574</td>\n",
       "      <td>0.581471</td>\n",
       "      <td>ck_med</td>\n",
       "    </tr>\n",
       "  </tbody>\n",
       "</table>\n",
       "<p>288 rows × 6 columns</p>\n",
       "</div>"
      ],
      "text/plain": [
       "          PC1       PC2       PC3       PC4       PC5   label\n",
       "0    3.578898  0.395738 -0.047779  0.014839 -0.042165  ck_pre\n",
       "1    0.336555 -0.201751  1.707125  0.596749 -0.009439  ck_pre\n",
       "2    1.249003  0.456976  2.923192  1.710269 -0.003426  ck_pre\n",
       "3    1.895098  0.237179  0.107955  0.098686 -0.021157  ck_pre\n",
       "4    0.187784 -0.567702  0.276168 -0.571162 -0.005510  ck_pre\n",
       "..        ...       ...       ...       ...       ...     ...\n",
       "283 -1.933990  2.119364  1.530949  1.577346  1.010596  ck_med\n",
       "284 -2.009835  2.035656  1.940617  1.466609  0.787319  ck_med\n",
       "285 -3.796804  0.768672  1.941153  0.378488  0.410919  ck_med\n",
       "286 -1.834836  2.069482  1.382685  1.389709  0.583992  ck_med\n",
       "287 -0.895038  2.804296  1.611100  1.983574  0.581471  ck_med\n",
       "\n",
       "[288 rows x 6 columns]"
      ]
     },
     "execution_count": 3,
     "metadata": {},
     "output_type": "execute_result"
    }
   ],
   "source": [
    "# read in features csv file\n",
    "df = pd.read_csv('pca_features.csv')\n",
    "df"
   ]
  },
  {
   "cell_type": "code",
   "execution_count": 4,
   "metadata": {},
   "outputs": [
    {
     "data": {
      "text/html": [
       "<div>\n",
       "<style scoped>\n",
       "    .dataframe tbody tr th:only-of-type {\n",
       "        vertical-align: middle;\n",
       "    }\n",
       "\n",
       "    .dataframe tbody tr th {\n",
       "        vertical-align: top;\n",
       "    }\n",
       "\n",
       "    .dataframe thead th {\n",
       "        text-align: right;\n",
       "    }\n",
       "</style>\n",
       "<table border=\"1\" class=\"dataframe\">\n",
       "  <thead>\n",
       "    <tr style=\"text-align: right;\">\n",
       "      <th></th>\n",
       "      <th>PC1</th>\n",
       "      <th>PC2</th>\n",
       "      <th>PC3</th>\n",
       "      <th>PC4</th>\n",
       "      <th>PC5</th>\n",
       "      <th>label</th>\n",
       "    </tr>\n",
       "  </thead>\n",
       "  <tbody>\n",
       "    <tr>\n",
       "      <th>0</th>\n",
       "      <td>3.578898</td>\n",
       "      <td>0.395738</td>\n",
       "      <td>-0.047779</td>\n",
       "      <td>0.014839</td>\n",
       "      <td>-0.042165</td>\n",
       "      <td>0</td>\n",
       "    </tr>\n",
       "    <tr>\n",
       "      <th>1</th>\n",
       "      <td>0.336555</td>\n",
       "      <td>-0.201751</td>\n",
       "      <td>1.707125</td>\n",
       "      <td>0.596749</td>\n",
       "      <td>-0.009439</td>\n",
       "      <td>0</td>\n",
       "    </tr>\n",
       "    <tr>\n",
       "      <th>2</th>\n",
       "      <td>1.249003</td>\n",
       "      <td>0.456976</td>\n",
       "      <td>2.923192</td>\n",
       "      <td>1.710269</td>\n",
       "      <td>-0.003426</td>\n",
       "      <td>0</td>\n",
       "    </tr>\n",
       "    <tr>\n",
       "      <th>3</th>\n",
       "      <td>1.895098</td>\n",
       "      <td>0.237179</td>\n",
       "      <td>0.107955</td>\n",
       "      <td>0.098686</td>\n",
       "      <td>-0.021157</td>\n",
       "      <td>0</td>\n",
       "    </tr>\n",
       "    <tr>\n",
       "      <th>4</th>\n",
       "      <td>0.187784</td>\n",
       "      <td>-0.567702</td>\n",
       "      <td>0.276168</td>\n",
       "      <td>-0.571162</td>\n",
       "      <td>-0.005510</td>\n",
       "      <td>0</td>\n",
       "    </tr>\n",
       "    <tr>\n",
       "      <th>...</th>\n",
       "      <td>...</td>\n",
       "      <td>...</td>\n",
       "      <td>...</td>\n",
       "      <td>...</td>\n",
       "      <td>...</td>\n",
       "      <td>...</td>\n",
       "    </tr>\n",
       "    <tr>\n",
       "      <th>283</th>\n",
       "      <td>-1.933990</td>\n",
       "      <td>2.119364</td>\n",
       "      <td>1.530949</td>\n",
       "      <td>1.577346</td>\n",
       "      <td>1.010596</td>\n",
       "      <td>1</td>\n",
       "    </tr>\n",
       "    <tr>\n",
       "      <th>284</th>\n",
       "      <td>-2.009835</td>\n",
       "      <td>2.035656</td>\n",
       "      <td>1.940617</td>\n",
       "      <td>1.466609</td>\n",
       "      <td>0.787319</td>\n",
       "      <td>1</td>\n",
       "    </tr>\n",
       "    <tr>\n",
       "      <th>285</th>\n",
       "      <td>-3.796804</td>\n",
       "      <td>0.768672</td>\n",
       "      <td>1.941153</td>\n",
       "      <td>0.378488</td>\n",
       "      <td>0.410919</td>\n",
       "      <td>1</td>\n",
       "    </tr>\n",
       "    <tr>\n",
       "      <th>286</th>\n",
       "      <td>-1.834836</td>\n",
       "      <td>2.069482</td>\n",
       "      <td>1.382685</td>\n",
       "      <td>1.389709</td>\n",
       "      <td>0.583992</td>\n",
       "      <td>1</td>\n",
       "    </tr>\n",
       "    <tr>\n",
       "      <th>287</th>\n",
       "      <td>-0.895038</td>\n",
       "      <td>2.804296</td>\n",
       "      <td>1.611100</td>\n",
       "      <td>1.983574</td>\n",
       "      <td>0.581471</td>\n",
       "      <td>1</td>\n",
       "    </tr>\n",
       "  </tbody>\n",
       "</table>\n",
       "<p>288 rows × 6 columns</p>\n",
       "</div>"
      ],
      "text/plain": [
       "          PC1       PC2       PC3       PC4       PC5  label\n",
       "0    3.578898  0.395738 -0.047779  0.014839 -0.042165      0\n",
       "1    0.336555 -0.201751  1.707125  0.596749 -0.009439      0\n",
       "2    1.249003  0.456976  2.923192  1.710269 -0.003426      0\n",
       "3    1.895098  0.237179  0.107955  0.098686 -0.021157      0\n",
       "4    0.187784 -0.567702  0.276168 -0.571162 -0.005510      0\n",
       "..        ...       ...       ...       ...       ...    ...\n",
       "283 -1.933990  2.119364  1.530949  1.577346  1.010596      1\n",
       "284 -2.009835  2.035656  1.940617  1.466609  0.787319      1\n",
       "285 -3.796804  0.768672  1.941153  0.378488  0.410919      1\n",
       "286 -1.834836  2.069482  1.382685  1.389709  0.583992      1\n",
       "287 -0.895038  2.804296  1.611100  1.983574  0.581471      1\n",
       "\n",
       "[288 rows x 6 columns]"
      ]
     },
     "execution_count": 4,
     "metadata": {},
     "output_type": "execute_result"
    }
   ],
   "source": [
    "# encode meditative/non-meditative labels\n",
    "categories = {'ck_pre':0,'ck_med':1}\n",
    "df['label'] = df['label'].replace(categories)\n",
    "df"
   ]
  },
  {
   "cell_type": "code",
   "execution_count": 5,
   "metadata": {},
   "outputs": [],
   "source": [
    "# split dependent and independent variables\n",
    "# target variable\n",
    "Y = df['label'].values\n",
    "# features\n",
    "X = df.drop(labels = ['label'], axis = 1)\n",
    "features_list = list(X.columns)\n",
    "\n",
    "# Standardizing the features\n",
    "X = StandardScaler().fit_transform(X)"
   ]
  },
  {
   "cell_type": "code",
   "execution_count": 6,
   "metadata": {},
   "outputs": [],
   "source": [
    "# split training and testing dataset: 70% training, 30% testing\n",
    "X_train,X_test,y_train,y_test = train_test_split(X,Y,test_size = 0.3,random_state = 42)"
   ]
  },
  {
   "cell_type": "markdown",
   "metadata": {},
   "source": [
    "## Linear SVM"
   ]
  },
  {
   "cell_type": "code",
   "execution_count": 7,
   "metadata": {},
   "outputs": [
    {
     "data": {
      "text/plain": [
       "{'loss': ['hinge', 'squared_hinge'],\n",
       " 'dual': [True, False],\n",
       " 'tol': [0.001, 0.0001, 1e-05]}"
      ]
     },
     "execution_count": 7,
     "metadata": {},
     "output_type": "execute_result"
    }
   ],
   "source": [
    "# create lists of possible parameters for linear SVM\n",
    "# to be used in grid search to find the best possible parameters later\n",
    "\n",
    "lin_clf_loss = ['hinge', 'squared_hinge']\n",
    "lin_clf_dual = [True,False]\n",
    "lin_clf_tol = [0.001,0.0001,0.00001]\n",
    "\n",
    "# Create the grid\n",
    "lin_grid = {'loss': lin_clf_loss,\n",
    "               'dual': lin_clf_dual,\n",
    "               'tol': lin_clf_tol}\n",
    "\n",
    "lin_grid"
   ]
  },
  {
   "cell_type": "code",
   "execution_count": 8,
   "metadata": {},
   "outputs": [
    {
     "name": "stdout",
     "output_type": "stream",
     "text": [
      "Wed Apr 14 21:40:26 2021\n",
      "Fitting 10 folds for each of 12 candidates, totalling 120 fits\n"
     ]
    },
    {
     "name": "stderr",
     "output_type": "stream",
     "text": [
      "/opt/anaconda3/envs/myenv/lib/python3.8/site-packages/sklearn/model_selection/_search.py:278: UserWarning: The total space of parameters 12 is smaller than n_iter=20. Running 12 iterations. For exhaustive searches, use GridSearchCV.\n",
      "  warnings.warn(\n",
      "[Parallel(n_jobs=-1)]: Using backend LokyBackend with 4 concurrent workers.\n"
     ]
    },
    {
     "name": "stdout",
     "output_type": "stream",
     "text": [
      "Wed Apr 14 21:40:28 2021\n"
     ]
    },
    {
     "name": "stderr",
     "output_type": "stream",
     "text": [
      "[Parallel(n_jobs=-1)]: Done  34 tasks      | elapsed:    2.3s\n",
      "[Parallel(n_jobs=-1)]: Done 120 out of 120 | elapsed:    2.4s finished\n"
     ]
    }
   ],
   "source": [
    "# run parameters through model and find best set of parameters\n",
    "# this step splits the training data into mini train/test datasets to find the best hyperparameters for the model\n",
    "\n",
    "import time\n",
    "print(time.ctime(time.time()))\n",
    "\n",
    "# Create the model to be tuned\n",
    "lin_base = svm.LinearSVC()\n",
    "\n",
    "# Create the random search to find best hyperparameters\n",
    "lin_random = RandomizedSearchCV(estimator = lin_base, \n",
    "                                param_distributions = lin_grid, \n",
    "                                n_iter = 20,\n",
    "                                cv = 10, \n",
    "                                verbose = 2, \n",
    "                                random_state = 42, \n",
    "                                n_jobs = -1)\n",
    "\n",
    "# Fit the random search model on training data\n",
    "lin_random.fit(X_train, y_train)\n",
    "\n",
    "print(time.ctime(time.time()))"
   ]
  },
  {
   "cell_type": "code",
   "execution_count": 9,
   "metadata": {},
   "outputs": [
    {
     "data": {
      "text/plain": [
       "{'tol': 0.001, 'loss': 'squared_hinge', 'dual': True}"
      ]
     },
     "execution_count": 9,
     "metadata": {},
     "output_type": "execute_result"
    }
   ],
   "source": [
    "# show best set of parameters\n",
    "lin_random.best_params_"
   ]
  },
  {
   "cell_type": "code",
   "execution_count": 10,
   "metadata": {},
   "outputs": [],
   "source": [
    "# Create the linear SVM model\n",
    "lin_model = svm.LinearSVC(tol = 0.001,\n",
    "                      loss = 'squared_hinge',\n",
    "                      dual = True,\n",
    "                      random_state = 42)"
   ]
  },
  {
   "cell_type": "code",
   "execution_count": 11,
   "metadata": {},
   "outputs": [
    {
     "data": {
      "text/plain": [
       "LinearSVC(random_state=42, tol=0.001)"
      ]
     },
     "execution_count": 11,
     "metadata": {},
     "output_type": "execute_result"
    }
   ],
   "source": [
    "# fit model\n",
    "lin_model.fit(X_train,y_train)"
   ]
  },
  {
   "cell_type": "code",
   "execution_count": 12,
   "metadata": {},
   "outputs": [],
   "source": [
    "# predict y values from testing data\n",
    "y_pred = lin_model.predict(X_test)"
   ]
  },
  {
   "cell_type": "code",
   "execution_count": 13,
   "metadata": {},
   "outputs": [
    {
     "data": {
      "text/html": [
       "<div>\n",
       "<style scoped>\n",
       "    .dataframe tbody tr th:only-of-type {\n",
       "        vertical-align: middle;\n",
       "    }\n",
       "\n",
       "    .dataframe tbody tr th {\n",
       "        vertical-align: top;\n",
       "    }\n",
       "\n",
       "    .dataframe thead th {\n",
       "        text-align: right;\n",
       "    }\n",
       "</style>\n",
       "<table border=\"1\" class=\"dataframe\">\n",
       "  <thead>\n",
       "    <tr style=\"text-align: right;\">\n",
       "      <th>Predicted</th>\n",
       "      <th>Non-Meditative</th>\n",
       "      <th>Meditative</th>\n",
       "    </tr>\n",
       "    <tr>\n",
       "      <th>Actual</th>\n",
       "      <th></th>\n",
       "      <th></th>\n",
       "    </tr>\n",
       "  </thead>\n",
       "  <tbody>\n",
       "    <tr>\n",
       "      <th>Non-Meditative</th>\n",
       "      <td>38</td>\n",
       "      <td>6</td>\n",
       "    </tr>\n",
       "    <tr>\n",
       "      <th>Meditative</th>\n",
       "      <td>9</td>\n",
       "      <td>34</td>\n",
       "    </tr>\n",
       "  </tbody>\n",
       "</table>\n",
       "</div>"
      ],
      "text/plain": [
       "Predicted       Non-Meditative  Meditative\n",
       "Actual                                    \n",
       "Non-Meditative              38           6\n",
       "Meditative                   9          34"
      ]
     },
     "execution_count": 13,
     "metadata": {},
     "output_type": "execute_result"
    }
   ],
   "source": [
    "# display results in confusion matrix\n",
    "cm = confusion_matrix(y_test,y_pred)\n",
    "cm\n",
    "\n",
    "results = pd.crosstab(y_test, y_pred, colnames=['Predicted'])\n",
    "results = results.rename(columns={0: 'Non-Meditative', 1: 'Meditative'})\n",
    "results.index = ['Non-Meditative', 'Meditative']\n",
    "index = results.index\n",
    "index.name = \"Actual\"\n",
    "results"
   ]
  },
  {
   "cell_type": "code",
   "execution_count": 14,
   "metadata": {},
   "outputs": [
    {
     "name": "stdout",
     "output_type": "stream",
     "text": [
      "                precision    recall  f1-score   support\n",
      "\n",
      "Non-Meditative       0.81      0.86      0.84        44\n",
      "    Meditative       0.85      0.79      0.82        43\n",
      "\n",
      "      accuracy                           0.83        87\n",
      "     macro avg       0.83      0.83      0.83        87\n",
      "  weighted avg       0.83      0.83      0.83        87\n",
      "\n"
     ]
    }
   ],
   "source": [
    "target_names = ['Non-Meditative', 'Meditative']\n",
    "print(classification_report(y_test, y_pred, target_names=target_names))"
   ]
  },
  {
   "cell_type": "code",
   "execution_count": 15,
   "metadata": {},
   "outputs": [
    {
     "name": "stdout",
     "output_type": "stream",
     "text": [
      "Linear SVM\n",
      "\n",
      "Sensitivity = 0.791\n",
      "Accuracy = 0.828\n",
      "Precision = 0.850\n",
      "Matthew Correlation Coefficient = 0.656\n"
     ]
    }
   ],
   "source": [
    "# store metrics for comparision amongst SVM kernels later\n",
    "svm_rec = []\n",
    "svm_acc = []\n",
    "svm_pre = []\n",
    "svm_mcc = []\n",
    "\n",
    "# obtain metrics for model\n",
    "recall = metrics.recall_score(y_test,y_pred)\n",
    "accuracy = metrics.accuracy_score(y_test,y_pred)\n",
    "precision = metrics.precision_score(y_test,y_pred)\n",
    "mcc = metrics.matthews_corrcoef(y_test,y_pred)\n",
    "\n",
    "svm_rec.append(recall)\n",
    "svm_acc.append(accuracy)\n",
    "svm_pre.append(precision)\n",
    "svm_mcc.append(mcc)\n",
    "\n",
    "# display metrics\n",
    "print('Linear SVM\\n')\n",
    "print('Sensitivity = %.3f' % recall)\n",
    "print('Accuracy = %.3f' % accuracy)\n",
    "print('Precision = %.3f' % precision)\n",
    "print('Matthew Correlation Coefficient = %.3f' % mcc)\n"
   ]
  },
  {
   "cell_type": "code",
   "execution_count": 16,
   "metadata": {},
   "outputs": [
    {
     "data": {
      "text/plain": [
       "PC5    0.559555\n",
       "PC3   -0.004644\n",
       "PC4   -0.069463\n",
       "PC2   -0.620433\n",
       "PC1   -0.636682\n",
       "dtype: float64"
      ]
     },
     "execution_count": 16,
     "metadata": {},
     "output_type": "execute_result"
    }
   ],
   "source": [
    "# show most important features when determining classification category\n",
    "feature_imp = pd.Series(lin_model.coef_[0], index = features_list).sort_values(ascending = False)\n",
    "feature_imp"
   ]
  },
  {
   "cell_type": "markdown",
   "metadata": {},
   "source": [
    "## Radial Basis Function SVM"
   ]
  },
  {
   "cell_type": "code",
   "execution_count": 17,
   "metadata": {},
   "outputs": [
    {
     "data": {
      "text/plain": [
       "{'gamma': [0.1, 1, 'scale', 'auto'], 'tol': [0.001, 0.0001, 1e-05]}"
      ]
     },
     "execution_count": 17,
     "metadata": {},
     "output_type": "execute_result"
    }
   ],
   "source": [
    "# create lists of possible parameters for rbf SVM\n",
    "# to be used in grid search to find the best possible parameters later\n",
    "\n",
    "rbf_gamma = [0.1, 1,'scale','auto']\n",
    "rbf_tol = [0.001,0.0001,0.00001]\n",
    "\n",
    "# Create the grid\n",
    "rbf_grid = {'gamma': rbf_gamma,\n",
    "               'tol': rbf_tol}\n",
    "\n",
    "rbf_grid\n"
   ]
  },
  {
   "cell_type": "code",
   "execution_count": 18,
   "metadata": {},
   "outputs": [
    {
     "name": "stdout",
     "output_type": "stream",
     "text": [
      "Wed Apr 14 21:40:29 2021\n",
      "Fitting 10 folds for each of 10 candidates, totalling 100 fits\n"
     ]
    },
    {
     "name": "stderr",
     "output_type": "stream",
     "text": [
      "[Parallel(n_jobs=-1)]: Using backend LokyBackend with 4 concurrent workers.\n",
      "[Parallel(n_jobs=-1)]: Done  86 tasks      | elapsed:    0.2s\n",
      "[Parallel(n_jobs=-1)]: Done 100 out of 100 | elapsed:    0.2s finished\n"
     ]
    },
    {
     "name": "stdout",
     "output_type": "stream",
     "text": [
      "Wed Apr 14 21:40:29 2021\n"
     ]
    }
   ],
   "source": [
    "# run parameters and find set with best score\n",
    "# this step splits the training data into mini train/test datasets to find the best hyperparameters for the model\n",
    "\n",
    "print(time.ctime(time.time()))\n",
    "\n",
    "# Create the model to be tuned\n",
    "rbf_base = svm.SVC(kernel = 'rbf')\n",
    "\n",
    "# Create the random search to find best hyperparameters\n",
    "rbf_random = RandomizedSearchCV(estimator = rbf_base, \n",
    "                                param_distributions = rbf_grid, \n",
    "                                n_iter = 10,\n",
    "                                cv = 10, \n",
    "                                verbose = 2, \n",
    "                                random_state = 42, \n",
    "                                n_jobs = -1)\n",
    "\n",
    "# Fit the random search model on training data\n",
    "rbf_random.fit(X_train, y_train)\n",
    "\n",
    "print(time.ctime(time.time()))"
   ]
  },
  {
   "cell_type": "code",
   "execution_count": 19,
   "metadata": {},
   "outputs": [
    {
     "data": {
      "text/plain": [
       "{'tol': 1e-05, 'gamma': 1}"
      ]
     },
     "execution_count": 19,
     "metadata": {},
     "output_type": "execute_result"
    }
   ],
   "source": [
    "# display best rbf svm parameters\n",
    "rbf_random.best_params_"
   ]
  },
  {
   "cell_type": "code",
   "execution_count": 20,
   "metadata": {},
   "outputs": [
    {
     "data": {
      "text/html": [
       "<div>\n",
       "<style scoped>\n",
       "    .dataframe tbody tr th:only-of-type {\n",
       "        vertical-align: middle;\n",
       "    }\n",
       "\n",
       "    .dataframe tbody tr th {\n",
       "        vertical-align: top;\n",
       "    }\n",
       "\n",
       "    .dataframe thead th {\n",
       "        text-align: right;\n",
       "    }\n",
       "</style>\n",
       "<table border=\"1\" class=\"dataframe\">\n",
       "  <thead>\n",
       "    <tr style=\"text-align: right;\">\n",
       "      <th>Predicted</th>\n",
       "      <th>Non-Meditative</th>\n",
       "      <th>Meditative</th>\n",
       "    </tr>\n",
       "    <tr>\n",
       "      <th>Actual</th>\n",
       "      <th></th>\n",
       "      <th></th>\n",
       "    </tr>\n",
       "  </thead>\n",
       "  <tbody>\n",
       "    <tr>\n",
       "      <th>Non-Meditative</th>\n",
       "      <td>40</td>\n",
       "      <td>4</td>\n",
       "    </tr>\n",
       "    <tr>\n",
       "      <th>Meditative</th>\n",
       "      <td>8</td>\n",
       "      <td>35</td>\n",
       "    </tr>\n",
       "  </tbody>\n",
       "</table>\n",
       "</div>"
      ],
      "text/plain": [
       "Predicted       Non-Meditative  Meditative\n",
       "Actual                                    \n",
       "Non-Meditative              40           4\n",
       "Meditative                   8          35"
      ]
     },
     "execution_count": 20,
     "metadata": {},
     "output_type": "execute_result"
    }
   ],
   "source": [
    "# Create the rbf SVM model\n",
    "rbf_model = svm.SVC(kernel = 'rbf',\n",
    "                    tol = 0.001,\n",
    "                      gamma = 1,\n",
    "                      random_state = 42)\n",
    "\n",
    "# fit model\n",
    "rbf_model.fit(X_train,y_train)\n",
    "\n",
    "# predict testing data\n",
    "y_pred = rbf_model.predict(X_test)\n",
    "\n",
    "# display confusion matrix\n",
    "results = pd.crosstab(y_test, y_pred, colnames=['Predicted'])\n",
    "results = results.rename(columns={0: 'Non-Meditative', 1: 'Meditative'})\n",
    "results.index = ['Non-Meditative', 'Meditative']\n",
    "index = results.index\n",
    "index.name = \"Actual\"\n",
    "results"
   ]
  },
  {
   "cell_type": "code",
   "execution_count": 21,
   "metadata": {},
   "outputs": [
    {
     "name": "stdout",
     "output_type": "stream",
     "text": [
      "Radial Basic Function SVM\n",
      "\n",
      "Sensitivity = 0.814\n",
      "Accuracy = 0.862\n",
      "Precision = 0.897\n",
      "Matthew Correlation Coefficient = 0.727\n"
     ]
    }
   ],
   "source": [
    "# obtain metrics of rbf model\n",
    "recall = metrics.recall_score(y_test,y_pred)\n",
    "accuracy = metrics.accuracy_score(y_test,y_pred)\n",
    "precision = metrics.precision_score(y_test,y_pred)\n",
    "mcc = metrics.matthews_corrcoef(y_test,y_pred)\n",
    "\n",
    "svm_rec.append(recall)\n",
    "svm_acc.append(accuracy)\n",
    "svm_pre.append(precision)\n",
    "svm_mcc.append(mcc)\n",
    "\n",
    "print('Radial Basic Function SVM\\n')\n",
    "print('Sensitivity = %.3f' % recall)\n",
    "print('Accuracy = %.3f' % accuracy)\n",
    "print('Precision = %.3f' % precision)\n",
    "print('Matthew Correlation Coefficient = %.3f' % mcc)"
   ]
  },
  {
   "cell_type": "markdown",
   "metadata": {},
   "source": [
    "## Polynomial SVM"
   ]
  },
  {
   "cell_type": "code",
   "execution_count": 22,
   "metadata": {},
   "outputs": [
    {
     "data": {
      "text/plain": [
       "{'gamma': [0.1, 1, 'scale', 'auto'],\n",
       " 'degree': [2, 3, 4, 5, 6, 7],\n",
       " 'tol': [0.001, 0.0001, 1e-05]}"
      ]
     },
     "execution_count": 22,
     "metadata": {},
     "output_type": "execute_result"
    }
   ],
   "source": [
    "# create lists of possible parameters for polynomial SVM\n",
    "# to be used in grid search to find the best possible parameters later\n",
    "\n",
    "poly_degree = [2,3,4,5,6,7]\n",
    "poly_gamma = [0.1, 1,'scale','auto']\n",
    "poly_tol = [0.001,0.0001,0.00001]\n",
    "\n",
    "# Create the grid\n",
    "poly_grid = {'gamma': poly_gamma,\n",
    "            'degree': poly_degree,\n",
    "               'tol': poly_tol}\n",
    "\n",
    "poly_grid\n"
   ]
  },
  {
   "cell_type": "code",
   "execution_count": 23,
   "metadata": {},
   "outputs": [
    {
     "name": "stdout",
     "output_type": "stream",
     "text": [
      "Wed Apr 14 21:40:32 2021\n",
      "Fitting 10 folds for each of 72 candidates, totalling 720 fits\n"
     ]
    },
    {
     "name": "stderr",
     "output_type": "stream",
     "text": [
      "/opt/anaconda3/envs/myenv/lib/python3.8/site-packages/sklearn/model_selection/_search.py:278: UserWarning: The total space of parameters 72 is smaller than n_iter=100. Running 72 iterations. For exhaustive searches, use GridSearchCV.\n",
      "  warnings.warn(\n",
      "[Parallel(n_jobs=-1)]: Using backend LokyBackend with 4 concurrent workers.\n",
      "[Parallel(n_jobs=-1)]: Done 136 tasks      | elapsed:    0.3s\n"
     ]
    },
    {
     "name": "stdout",
     "output_type": "stream",
     "text": [
      "Wed Apr 14 21:40:33 2021\n"
     ]
    },
    {
     "name": "stderr",
     "output_type": "stream",
     "text": [
      "[Parallel(n_jobs=-1)]: Done 720 out of 720 | elapsed:    1.4s finished\n"
     ]
    }
   ],
   "source": [
    "# this step splits the training data into mini train/test datasets to find the best hyperparameters for the model\n",
    "\n",
    "print(time.ctime(time.time()))\n",
    "\n",
    "# Create the model to be tuned\n",
    "poly_base = svm.SVC(kernel = 'poly')\n",
    "\n",
    "# Create the random search to find best hyperparameters\n",
    "poly_random = RandomizedSearchCV(estimator = poly_base, \n",
    "                                param_distributions = poly_grid, \n",
    "                                n_iter = 100,\n",
    "                                cv = 10, \n",
    "                                verbose = 2, \n",
    "                                random_state = 42, \n",
    "                                n_jobs = -1)\n",
    "\n",
    "# Fit the random search model on training data\n",
    "poly_random.fit(X_train, y_train)\n",
    "\n",
    "print(time.ctime(time.time()))"
   ]
  },
  {
   "cell_type": "code",
   "execution_count": 24,
   "metadata": {},
   "outputs": [
    {
     "data": {
      "text/plain": [
       "{'tol': 0.001, 'gamma': 'auto', 'degree': 3}"
      ]
     },
     "execution_count": 24,
     "metadata": {},
     "output_type": "execute_result"
    }
   ],
   "source": [
    "# display best polynomial svm parameters\n",
    "poly_random.best_params_"
   ]
  },
  {
   "cell_type": "code",
   "execution_count": 25,
   "metadata": {},
   "outputs": [
    {
     "data": {
      "text/html": [
       "<div>\n",
       "<style scoped>\n",
       "    .dataframe tbody tr th:only-of-type {\n",
       "        vertical-align: middle;\n",
       "    }\n",
       "\n",
       "    .dataframe tbody tr th {\n",
       "        vertical-align: top;\n",
       "    }\n",
       "\n",
       "    .dataframe thead th {\n",
       "        text-align: right;\n",
       "    }\n",
       "</style>\n",
       "<table border=\"1\" class=\"dataframe\">\n",
       "  <thead>\n",
       "    <tr style=\"text-align: right;\">\n",
       "      <th>Predicted</th>\n",
       "      <th>Non-Meditative</th>\n",
       "      <th>Meditative</th>\n",
       "    </tr>\n",
       "    <tr>\n",
       "      <th>Actual</th>\n",
       "      <th></th>\n",
       "      <th></th>\n",
       "    </tr>\n",
       "  </thead>\n",
       "  <tbody>\n",
       "    <tr>\n",
       "      <th>Non-Meditative</th>\n",
       "      <td>42</td>\n",
       "      <td>2</td>\n",
       "    </tr>\n",
       "    <tr>\n",
       "      <th>Meditative</th>\n",
       "      <td>8</td>\n",
       "      <td>35</td>\n",
       "    </tr>\n",
       "  </tbody>\n",
       "</table>\n",
       "</div>"
      ],
      "text/plain": [
       "Predicted       Non-Meditative  Meditative\n",
       "Actual                                    \n",
       "Non-Meditative              42           2\n",
       "Meditative                   8          35"
      ]
     },
     "execution_count": 25,
     "metadata": {},
     "output_type": "execute_result"
    }
   ],
   "source": [
    "# Create the poly SVM model\n",
    "poly_model = svm.SVC(kernel = 'poly',\n",
    "                    tol = 0.001,\n",
    "                    gamma = 1,\n",
    "                    degree = 3,\n",
    "                    random_state = 42)\n",
    "\n",
    "# fit model\n",
    "poly_model.fit(X_train,y_train)\n",
    "\n",
    "# predict test data\n",
    "y_pred = poly_model.predict(X_test)\n",
    "\n",
    "# confusion matrix\n",
    "results = pd.crosstab(y_test, y_pred, colnames=['Predicted'])\n",
    "results = results.rename(columns={0: 'Non-Meditative', 1: 'Meditative'})\n",
    "results.index = ['Non-Meditative', 'Meditative']\n",
    "index = results.index\n",
    "index.name = \"Actual\"\n",
    "results"
   ]
  },
  {
   "cell_type": "code",
   "execution_count": 26,
   "metadata": {},
   "outputs": [
    {
     "name": "stdout",
     "output_type": "stream",
     "text": [
      "Polynomial SVM\n",
      "\n",
      "Sensitivity = 0.814\n",
      "Accuracy = 0.885\n",
      "Precision = 0.946\n",
      "Matthew Correlation Coefficient = 0.777\n"
     ]
    }
   ],
   "source": [
    "# evaluation metrics of poly svm model\n",
    "recall = metrics.recall_score(y_test,y_pred)\n",
    "accuracy = metrics.accuracy_score(y_test,y_pred)\n",
    "precision = metrics.precision_score(y_test,y_pred)\n",
    "mcc = metrics.matthews_corrcoef(y_test,y_pred)\n",
    "\n",
    "svm_rec.append(recall)\n",
    "svm_acc.append(accuracy)\n",
    "svm_pre.append(precision)\n",
    "svm_mcc.append(mcc)\n",
    "\n",
    "print('Polynomial SVM\\n')\n",
    "print('Sensitivity = %.3f' % recall)\n",
    "print('Accuracy = %.3f' % accuracy)\n",
    "print('Precision = %.3f' % precision)\n",
    "print('Matthew Correlation Coefficient = %.3f' % mcc)"
   ]
  },
  {
   "cell_type": "markdown",
   "metadata": {},
   "source": [
    "### Comparison Between SVM models"
   ]
  },
  {
   "cell_type": "code",
   "execution_count": 27,
   "metadata": {},
   "outputs": [
    {
     "data": {
      "text/html": [
       "<div>\n",
       "<style scoped>\n",
       "    .dataframe tbody tr th:only-of-type {\n",
       "        vertical-align: middle;\n",
       "    }\n",
       "\n",
       "    .dataframe tbody tr th {\n",
       "        vertical-align: top;\n",
       "    }\n",
       "\n",
       "    .dataframe thead th {\n",
       "        text-align: right;\n",
       "    }\n",
       "</style>\n",
       "<table border=\"1\" class=\"dataframe\">\n",
       "  <thead>\n",
       "    <tr style=\"text-align: right;\">\n",
       "      <th></th>\n",
       "      <th>svm kernel</th>\n",
       "      <th>sensitivity</th>\n",
       "      <th>accuracy</th>\n",
       "      <th>precision</th>\n",
       "      <th>mcc</th>\n",
       "    </tr>\n",
       "  </thead>\n",
       "  <tbody>\n",
       "    <tr>\n",
       "      <th>0</th>\n",
       "      <td>linear</td>\n",
       "      <td>0.790698</td>\n",
       "      <td>0.827586</td>\n",
       "      <td>0.850000</td>\n",
       "      <td>0.656419</td>\n",
       "    </tr>\n",
       "    <tr>\n",
       "      <th>1</th>\n",
       "      <td>rbf</td>\n",
       "      <td>0.813953</td>\n",
       "      <td>0.862069</td>\n",
       "      <td>0.897436</td>\n",
       "      <td>0.726897</td>\n",
       "    </tr>\n",
       "    <tr>\n",
       "      <th>2</th>\n",
       "      <td>poly</td>\n",
       "      <td>0.813953</td>\n",
       "      <td>0.885057</td>\n",
       "      <td>0.945946</td>\n",
       "      <td>0.777173</td>\n",
       "    </tr>\n",
       "  </tbody>\n",
       "</table>\n",
       "</div>"
      ],
      "text/plain": [
       "  svm kernel  sensitivity  accuracy  precision       mcc\n",
       "0     linear     0.790698  0.827586   0.850000  0.656419\n",
       "1        rbf     0.813953  0.862069   0.897436  0.726897\n",
       "2       poly     0.813953  0.885057   0.945946  0.777173"
      ]
     },
     "execution_count": 27,
     "metadata": {},
     "output_type": "execute_result"
    }
   ],
   "source": [
    "df = pd.DataFrame()\n",
    "\n",
    "df['svm kernel'] = ['linear','rbf','poly']\n",
    "df['sensitivity'] = svm_rec\n",
    "df['accuracy'] = svm_acc\n",
    "df['precision'] = svm_pre\n",
    "df['mcc'] = svm_mcc\n",
    "\n",
    "df"
   ]
  },
  {
   "cell_type": "code",
   "execution_count": 28,
   "metadata": {},
   "outputs": [
    {
     "data": {
      "image/png": "[encoded data removed]",
      "text/plain": [
       "<Figure size 720x480 with 2 Axes>"
      ]
     },
     "metadata": {
      "needs_background": "light"
     },
     "output_type": "display_data"
    }
   ],
   "source": [
    "y_axis_labels = ['linear','rbf','polynomial']\n",
    "\n",
    "plt.figure(dpi = 120)\n",
    "ax = sns.heatmap(df.iloc[:, 1:],\n",
    "                 cmap = 'GnBu',\n",
    "                 annot = True,\n",
    "                 yticklabels = y_axis_labels,\n",
    "                )\n",
    "\n",
    "plt.yticks(rotation=0) \n",
    "plt.show()"
   ]
  },
  {
   "cell_type": "markdown",
   "metadata": {},
   "source": [
    "Polynomial SVM showed best performance overall"
   ]
  },
  {
   "cell_type": "code",
   "execution_count": null,
   "metadata": {},
   "outputs": [],
   "source": []
  }
 ],
 "metadata": {
  "kernelspec": {
   "display_name": "Python 3",
   "language": "python",
   "name": "python3"
  },
  "language_info": {
   "codemirror_mode": {
    "name": "ipython",
    "version": 3
   },
   "file_extension": ".py",
   "mimetype": "text/x-python",
   "name": "python",
   "nbconvert_exporter": "python",
   "pygments_lexer": "ipython3",
   "version": "3.8.8"
  }
 },
 "nbformat": 4,
 "nbformat_minor": 2
}
