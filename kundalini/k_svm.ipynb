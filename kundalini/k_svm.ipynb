{
 "cells": [
  {
   "cell_type": "markdown",
   "metadata": {},
   "source": [
    "# Support Vector Machine (SVM) Classification on PCA dataset"
   ]
  },
  {
   "cell_type": "markdown",
   "metadata": {},
   "source": [
    "Link to Excel file of extracted features: https://drive.google.com/drive/u/1/folders/1ZMbW7HxNkBUAlnT-_lXLD4J_r0A778SJ"
   ]
  },
  {
   "cell_type": "code",
   "execution_count": 1,
   "metadata": {},
   "outputs": [],
   "source": [
    "# import required packages\n",
    "import numpy as np\n",
    "import pandas as pd\n",
    "import matplotlib\n",
    "import matplotlib.pyplot as plt\n",
    "import seaborn as sns\n",
    "from sklearn.preprocessing import StandardScaler\n",
    "from sklearn.model_selection import train_test_split\n",
    "from sklearn import svm\n",
    "from sklearn.metrics import confusion_matrix\n",
    "from sklearn import metrics\n",
    "from sklearn.metrics import classification_report\n",
    "from sklearn.model_selection import RandomizedSearchCV\n"
   ]
  },
  {
   "cell_type": "code",
   "execution_count": 2,
   "metadata": {
    "scrolled": true
   },
   "outputs": [
    {
     "data": {
      "text/html": [
       "<div>\n",
       "<style scoped>\n",
       "    .dataframe tbody tr th:only-of-type {\n",
       "        vertical-align: middle;\n",
       "    }\n",
       "\n",
       "    .dataframe tbody tr th {\n",
       "        vertical-align: top;\n",
       "    }\n",
       "\n",
       "    .dataframe thead th {\n",
       "        text-align: right;\n",
       "    }\n",
       "</style>\n",
       "<table border=\"1\" class=\"dataframe\">\n",
       "  <thead>\n",
       "    <tr style=\"text-align: right;\">\n",
       "      <th></th>\n",
       "      <th>PC1</th>\n",
       "      <th>PC2</th>\n",
       "      <th>PC3</th>\n",
       "      <th>PC4</th>\n",
       "      <th>label</th>\n",
       "    </tr>\n",
       "  </thead>\n",
       "  <tbody>\n",
       "    <tr>\n",
       "      <th>0</th>\n",
       "      <td>1.919234</td>\n",
       "      <td>1.225710</td>\n",
       "      <td>-1.287233</td>\n",
       "      <td>0.285046</td>\n",
       "      <td>k_pre</td>\n",
       "    </tr>\n",
       "    <tr>\n",
       "      <th>1</th>\n",
       "      <td>1.629080</td>\n",
       "      <td>-0.495292</td>\n",
       "      <td>-0.689883</td>\n",
       "      <td>0.365053</td>\n",
       "      <td>k_pre</td>\n",
       "    </tr>\n",
       "    <tr>\n",
       "      <th>2</th>\n",
       "      <td>2.341778</td>\n",
       "      <td>-1.181016</td>\n",
       "      <td>-0.758231</td>\n",
       "      <td>0.174319</td>\n",
       "      <td>k_pre</td>\n",
       "    </tr>\n",
       "    <tr>\n",
       "      <th>3</th>\n",
       "      <td>1.229193</td>\n",
       "      <td>0.930177</td>\n",
       "      <td>-0.746822</td>\n",
       "      <td>0.327738</td>\n",
       "      <td>k_pre</td>\n",
       "    </tr>\n",
       "    <tr>\n",
       "      <th>4</th>\n",
       "      <td>1.881406</td>\n",
       "      <td>-0.417269</td>\n",
       "      <td>-0.858387</td>\n",
       "      <td>0.351611</td>\n",
       "      <td>k_pre</td>\n",
       "    </tr>\n",
       "    <tr>\n",
       "      <th>...</th>\n",
       "      <td>...</td>\n",
       "      <td>...</td>\n",
       "      <td>...</td>\n",
       "      <td>...</td>\n",
       "      <td>...</td>\n",
       "    </tr>\n",
       "    <tr>\n",
       "      <th>91</th>\n",
       "      <td>-0.584261</td>\n",
       "      <td>3.824609</td>\n",
       "      <td>-0.579344</td>\n",
       "      <td>-0.546390</td>\n",
       "      <td>k_med</td>\n",
       "    </tr>\n",
       "    <tr>\n",
       "      <th>92</th>\n",
       "      <td>-0.489981</td>\n",
       "      <td>2.892255</td>\n",
       "      <td>0.260431</td>\n",
       "      <td>-0.950496</td>\n",
       "      <td>k_med</td>\n",
       "    </tr>\n",
       "    <tr>\n",
       "      <th>93</th>\n",
       "      <td>-2.153267</td>\n",
       "      <td>2.608921</td>\n",
       "      <td>0.641948</td>\n",
       "      <td>-0.166193</td>\n",
       "      <td>k_med</td>\n",
       "    </tr>\n",
       "    <tr>\n",
       "      <th>94</th>\n",
       "      <td>-0.443943</td>\n",
       "      <td>3.236324</td>\n",
       "      <td>-0.394600</td>\n",
       "      <td>-0.524103</td>\n",
       "      <td>k_med</td>\n",
       "    </tr>\n",
       "    <tr>\n",
       "      <th>95</th>\n",
       "      <td>0.402208</td>\n",
       "      <td>3.711258</td>\n",
       "      <td>-0.561773</td>\n",
       "      <td>-0.895813</td>\n",
       "      <td>k_med</td>\n",
       "    </tr>\n",
       "  </tbody>\n",
       "</table>\n",
       "<p>96 rows × 5 columns</p>\n",
       "</div>"
      ],
      "text/plain": [
       "         PC1       PC2       PC3       PC4  label\n",
       "0   1.919234  1.225710 -1.287233  0.285046  k_pre\n",
       "1   1.629080 -0.495292 -0.689883  0.365053  k_pre\n",
       "2   2.341778 -1.181016 -0.758231  0.174319  k_pre\n",
       "3   1.229193  0.930177 -0.746822  0.327738  k_pre\n",
       "4   1.881406 -0.417269 -0.858387  0.351611  k_pre\n",
       "..       ...       ...       ...       ...    ...\n",
       "91 -0.584261  3.824609 -0.579344 -0.546390  k_med\n",
       "92 -0.489981  2.892255  0.260431 -0.950496  k_med\n",
       "93 -2.153267  2.608921  0.641948 -0.166193  k_med\n",
       "94 -0.443943  3.236324 -0.394600 -0.524103  k_med\n",
       "95  0.402208  3.711258 -0.561773 -0.895813  k_med\n",
       "\n",
       "[96 rows x 5 columns]"
      ]
     },
     "execution_count": 2,
     "metadata": {},
     "output_type": "execute_result"
    }
   ],
   "source": [
    "# read in features csv file\n",
    "df = pd.read_csv('k_pca_features.csv')\n",
    "df"
   ]
  },
  {
   "cell_type": "code",
   "execution_count": 3,
   "metadata": {},
   "outputs": [
    {
     "data": {
      "text/html": [
       "<div>\n",
       "<style scoped>\n",
       "    .dataframe tbody tr th:only-of-type {\n",
       "        vertical-align: middle;\n",
       "    }\n",
       "\n",
       "    .dataframe tbody tr th {\n",
       "        vertical-align: top;\n",
       "    }\n",
       "\n",
       "    .dataframe thead th {\n",
       "        text-align: right;\n",
       "    }\n",
       "</style>\n",
       "<table border=\"1\" class=\"dataframe\">\n",
       "  <thead>\n",
       "    <tr style=\"text-align: right;\">\n",
       "      <th></th>\n",
       "      <th>PC1</th>\n",
       "      <th>PC2</th>\n",
       "      <th>PC3</th>\n",
       "      <th>PC4</th>\n",
       "      <th>label</th>\n",
       "    </tr>\n",
       "  </thead>\n",
       "  <tbody>\n",
       "    <tr>\n",
       "      <th>0</th>\n",
       "      <td>1.919234</td>\n",
       "      <td>1.225710</td>\n",
       "      <td>-1.287233</td>\n",
       "      <td>0.285046</td>\n",
       "      <td>0</td>\n",
       "    </tr>\n",
       "    <tr>\n",
       "      <th>1</th>\n",
       "      <td>1.629080</td>\n",
       "      <td>-0.495292</td>\n",
       "      <td>-0.689883</td>\n",
       "      <td>0.365053</td>\n",
       "      <td>0</td>\n",
       "    </tr>\n",
       "    <tr>\n",
       "      <th>2</th>\n",
       "      <td>2.341778</td>\n",
       "      <td>-1.181016</td>\n",
       "      <td>-0.758231</td>\n",
       "      <td>0.174319</td>\n",
       "      <td>0</td>\n",
       "    </tr>\n",
       "    <tr>\n",
       "      <th>3</th>\n",
       "      <td>1.229193</td>\n",
       "      <td>0.930177</td>\n",
       "      <td>-0.746822</td>\n",
       "      <td>0.327738</td>\n",
       "      <td>0</td>\n",
       "    </tr>\n",
       "    <tr>\n",
       "      <th>4</th>\n",
       "      <td>1.881406</td>\n",
       "      <td>-0.417269</td>\n",
       "      <td>-0.858387</td>\n",
       "      <td>0.351611</td>\n",
       "      <td>0</td>\n",
       "    </tr>\n",
       "    <tr>\n",
       "      <th>...</th>\n",
       "      <td>...</td>\n",
       "      <td>...</td>\n",
       "      <td>...</td>\n",
       "      <td>...</td>\n",
       "      <td>...</td>\n",
       "    </tr>\n",
       "    <tr>\n",
       "      <th>91</th>\n",
       "      <td>-0.584261</td>\n",
       "      <td>3.824609</td>\n",
       "      <td>-0.579344</td>\n",
       "      <td>-0.546390</td>\n",
       "      <td>1</td>\n",
       "    </tr>\n",
       "    <tr>\n",
       "      <th>92</th>\n",
       "      <td>-0.489981</td>\n",
       "      <td>2.892255</td>\n",
       "      <td>0.260431</td>\n",
       "      <td>-0.950496</td>\n",
       "      <td>1</td>\n",
       "    </tr>\n",
       "    <tr>\n",
       "      <th>93</th>\n",
       "      <td>-2.153267</td>\n",
       "      <td>2.608921</td>\n",
       "      <td>0.641948</td>\n",
       "      <td>-0.166193</td>\n",
       "      <td>1</td>\n",
       "    </tr>\n",
       "    <tr>\n",
       "      <th>94</th>\n",
       "      <td>-0.443943</td>\n",
       "      <td>3.236324</td>\n",
       "      <td>-0.394600</td>\n",
       "      <td>-0.524103</td>\n",
       "      <td>1</td>\n",
       "    </tr>\n",
       "    <tr>\n",
       "      <th>95</th>\n",
       "      <td>0.402208</td>\n",
       "      <td>3.711258</td>\n",
       "      <td>-0.561773</td>\n",
       "      <td>-0.895813</td>\n",
       "      <td>1</td>\n",
       "    </tr>\n",
       "  </tbody>\n",
       "</table>\n",
       "<p>96 rows × 5 columns</p>\n",
       "</div>"
      ],
      "text/plain": [
       "         PC1       PC2       PC3       PC4  label\n",
       "0   1.919234  1.225710 -1.287233  0.285046      0\n",
       "1   1.629080 -0.495292 -0.689883  0.365053      0\n",
       "2   2.341778 -1.181016 -0.758231  0.174319      0\n",
       "3   1.229193  0.930177 -0.746822  0.327738      0\n",
       "4   1.881406 -0.417269 -0.858387  0.351611      0\n",
       "..       ...       ...       ...       ...    ...\n",
       "91 -0.584261  3.824609 -0.579344 -0.546390      1\n",
       "92 -0.489981  2.892255  0.260431 -0.950496      1\n",
       "93 -2.153267  2.608921  0.641948 -0.166193      1\n",
       "94 -0.443943  3.236324 -0.394600 -0.524103      1\n",
       "95  0.402208  3.711258 -0.561773 -0.895813      1\n",
       "\n",
       "[96 rows x 5 columns]"
      ]
     },
     "execution_count": 3,
     "metadata": {},
     "output_type": "execute_result"
    }
   ],
   "source": [
    "# encode meditative/non-meditative labels\n",
    "categories = {'k_pre':0,'k_med':1}\n",
    "df['label'] = df['label'].replace(categories)\n",
    "df"
   ]
  },
  {
   "cell_type": "code",
   "execution_count": 4,
   "metadata": {},
   "outputs": [],
   "source": [
    "# split dependent and independent variables\n",
    "# target variable\n",
    "Y = df['label'].values\n",
    "# features\n",
    "X = df.drop(labels = ['label'], axis = 1)\n",
    "features_list = list(X.columns)\n",
    "\n",
    "# Standardizing the features\n",
    "X = StandardScaler().fit_transform(X)"
   ]
  },
  {
   "cell_type": "code",
   "execution_count": 5,
   "metadata": {},
   "outputs": [],
   "source": [
    "# split training and testing dataset: 70% training, 30% testing\n",
    "X_train,X_test,y_train,y_test = train_test_split(X,Y,test_size = 0.3,random_state = 42)"
   ]
  },
  {
   "cell_type": "markdown",
   "metadata": {},
   "source": [
    "## Linear SVM"
   ]
  },
  {
   "cell_type": "code",
   "execution_count": 6,
   "metadata": {},
   "outputs": [
    {
     "data": {
      "text/plain": [
       "{'loss': ['hinge', 'squared_hinge'],\n",
       " 'dual': [True, False],\n",
       " 'tol': [0.001, 0.0001, 1e-05]}"
      ]
     },
     "execution_count": 6,
     "metadata": {},
     "output_type": "execute_result"
    }
   ],
   "source": [
    "# create lists of possible parameters for linear SVM\n",
    "# to be used in grid search to find the best possible parameters later\n",
    "\n",
    "lin_clf_loss = ['hinge', 'squared_hinge']\n",
    "lin_clf_dual = [True,False]\n",
    "lin_clf_tol = [0.001,0.0001,0.00001]\n",
    "\n",
    "# Create the grid\n",
    "lin_grid = {'loss': lin_clf_loss,\n",
    "               'dual': lin_clf_dual,\n",
    "               'tol': lin_clf_tol}\n",
    "\n",
    "lin_grid"
   ]
  },
  {
   "cell_type": "code",
   "execution_count": 7,
   "metadata": {},
   "outputs": [
    {
     "name": "stdout",
     "output_type": "stream",
     "text": [
      "Thu Apr 15 00:27:59 2021\n",
      "Fitting 10 folds for each of 12 candidates, totalling 120 fits\n"
     ]
    },
    {
     "name": "stderr",
     "output_type": "stream",
     "text": [
      "/opt/anaconda3/envs/myenv/lib/python3.8/site-packages/sklearn/model_selection/_search.py:278: UserWarning: The total space of parameters 12 is smaller than n_iter=20. Running 12 iterations. For exhaustive searches, use GridSearchCV.\n",
      "  warnings.warn(\n",
      "[Parallel(n_jobs=-1)]: Using backend LokyBackend with 4 concurrent workers.\n",
      "[Parallel(n_jobs=-1)]: Done  47 tasks      | elapsed:    1.6s\n"
     ]
    },
    {
     "name": "stdout",
     "output_type": "stream",
     "text": [
      "Thu Apr 15 00:28:00 2021\n"
     ]
    },
    {
     "name": "stderr",
     "output_type": "stream",
     "text": [
      "[Parallel(n_jobs=-1)]: Done 120 out of 120 | elapsed:    1.8s finished\n"
     ]
    }
   ],
   "source": [
    "# run parameters through model and find best set of parameters\n",
    "# this step splits the training data into mini train/test datasets to find the best hyperparameters for the model\n",
    "\n",
    "import time\n",
    "print(time.ctime(time.time()))\n",
    "\n",
    "# Create the model to be tuned\n",
    "lin_base = svm.LinearSVC()\n",
    "\n",
    "# Create the random search to find best hyperparameters\n",
    "lin_random = RandomizedSearchCV(estimator = lin_base, \n",
    "                                param_distributions = lin_grid, \n",
    "                                n_iter = 20,\n",
    "                                cv = 10, \n",
    "                                verbose = 2, \n",
    "                                random_state = 42, \n",
    "                                n_jobs = -1)\n",
    "\n",
    "# Fit the random search model on training data\n",
    "lin_random.fit(X_train, y_train)\n",
    "\n",
    "print(time.ctime(time.time()))"
   ]
  },
  {
   "cell_type": "code",
   "execution_count": 8,
   "metadata": {},
   "outputs": [
    {
     "data": {
      "text/plain": [
       "{'tol': 0.001, 'loss': 'hinge', 'dual': True}"
      ]
     },
     "execution_count": 8,
     "metadata": {},
     "output_type": "execute_result"
    }
   ],
   "source": [
    "# show best set of parameters\n",
    "lin_random.best_params_"
   ]
  },
  {
   "cell_type": "code",
   "execution_count": 9,
   "metadata": {},
   "outputs": [],
   "source": [
    "# Create the linear SVM model\n",
    "lin_model = svm.LinearSVC(tol = 0.001,\n",
    "                      loss = 'squared_hinge',\n",
    "                      dual = True,\n",
    "                      random_state = 42)"
   ]
  },
  {
   "cell_type": "code",
   "execution_count": 10,
   "metadata": {},
   "outputs": [
    {
     "data": {
      "text/plain": [
       "LinearSVC(random_state=42, tol=0.001)"
      ]
     },
     "execution_count": 10,
     "metadata": {},
     "output_type": "execute_result"
    }
   ],
   "source": [
    "# fit model\n",
    "lin_model.fit(X_train,y_train)"
   ]
  },
  {
   "cell_type": "code",
   "execution_count": 11,
   "metadata": {},
   "outputs": [],
   "source": [
    "# predict y values from testing data\n",
    "y_pred = lin_model.predict(X_test)"
   ]
  },
  {
   "cell_type": "code",
   "execution_count": 12,
   "metadata": {},
   "outputs": [
    {
     "data": {
      "text/html": [
       "<div>\n",
       "<style scoped>\n",
       "    .dataframe tbody tr th:only-of-type {\n",
       "        vertical-align: middle;\n",
       "    }\n",
       "\n",
       "    .dataframe tbody tr th {\n",
       "        vertical-align: top;\n",
       "    }\n",
       "\n",
       "    .dataframe thead th {\n",
       "        text-align: right;\n",
       "    }\n",
       "</style>\n",
       "<table border=\"1\" class=\"dataframe\">\n",
       "  <thead>\n",
       "    <tr style=\"text-align: right;\">\n",
       "      <th>Predicted</th>\n",
       "      <th>Non-Meditative</th>\n",
       "      <th>Meditative</th>\n",
       "    </tr>\n",
       "    <tr>\n",
       "      <th>Actual</th>\n",
       "      <th></th>\n",
       "      <th></th>\n",
       "    </tr>\n",
       "  </thead>\n",
       "  <tbody>\n",
       "    <tr>\n",
       "      <th>Non-Meditative</th>\n",
       "      <td>17</td>\n",
       "      <td>0</td>\n",
       "    </tr>\n",
       "    <tr>\n",
       "      <th>Meditative</th>\n",
       "      <td>0</td>\n",
       "      <td>12</td>\n",
       "    </tr>\n",
       "  </tbody>\n",
       "</table>\n",
       "</div>"
      ],
      "text/plain": [
       "Predicted       Non-Meditative  Meditative\n",
       "Actual                                    \n",
       "Non-Meditative              17           0\n",
       "Meditative                   0          12"
      ]
     },
     "execution_count": 12,
     "metadata": {},
     "output_type": "execute_result"
    }
   ],
   "source": [
    "# display results in confusion matrix\n",
    "cm = confusion_matrix(y_test,y_pred)\n",
    "cm\n",
    "\n",
    "results = pd.crosstab(y_test, y_pred, colnames=['Predicted'])\n",
    "results = results.rename(columns={0: 'Non-Meditative', 1: 'Meditative'})\n",
    "results.index = ['Non-Meditative', 'Meditative']\n",
    "index = results.index\n",
    "index.name = \"Actual\"\n",
    "results"
   ]
  },
  {
   "cell_type": "code",
   "execution_count": 13,
   "metadata": {},
   "outputs": [
    {
     "name": "stdout",
     "output_type": "stream",
     "text": [
      "                precision    recall  f1-score   support\n",
      "\n",
      "Non-Meditative       1.00      1.00      1.00        17\n",
      "    Meditative       1.00      1.00      1.00        12\n",
      "\n",
      "      accuracy                           1.00        29\n",
      "     macro avg       1.00      1.00      1.00        29\n",
      "  weighted avg       1.00      1.00      1.00        29\n",
      "\n"
     ]
    }
   ],
   "source": [
    "target_names = ['Non-Meditative', 'Meditative']\n",
    "print(classification_report(y_test, y_pred, target_names=target_names))"
   ]
  },
  {
   "cell_type": "code",
   "execution_count": 14,
   "metadata": {},
   "outputs": [
    {
     "name": "stdout",
     "output_type": "stream",
     "text": [
      "Linear SVM\n",
      "\n",
      "Sensitivity = 1.000\n",
      "Accuracy = 1.000\n",
      "Precision = 1.000\n",
      "Matthew Correlation Coefficient = 1.000\n"
     ]
    }
   ],
   "source": [
    "# store metrics for comparision amongst SVM kernels later\n",
    "svm_rec = []\n",
    "svm_acc = []\n",
    "svm_pre = []\n",
    "svm_mcc = []\n",
    "\n",
    "# obtain metrics for model\n",
    "recall = metrics.recall_score(y_test,y_pred)\n",
    "accuracy = metrics.accuracy_score(y_test,y_pred)\n",
    "precision = metrics.precision_score(y_test,y_pred)\n",
    "mcc = metrics.matthews_corrcoef(y_test,y_pred)\n",
    "\n",
    "svm_rec.append(recall)\n",
    "svm_acc.append(accuracy)\n",
    "svm_pre.append(precision)\n",
    "svm_mcc.append(mcc)\n",
    "\n",
    "# display metrics\n",
    "print('Linear SVM\\n')\n",
    "print('Sensitivity = %.3f' % recall)\n",
    "print('Accuracy = %.3f' % accuracy)\n",
    "print('Precision = %.3f' % precision)\n",
    "print('Matthew Correlation Coefficient = %.3f' % mcc)\n"
   ]
  },
  {
   "cell_type": "code",
   "execution_count": 15,
   "metadata": {},
   "outputs": [
    {
     "data": {
      "text/plain": [
       "PC2   -0.043962\n",
       "PC3   -0.322127\n",
       "PC4   -0.485884\n",
       "PC1   -1.782670\n",
       "dtype: float64"
      ]
     },
     "execution_count": 15,
     "metadata": {},
     "output_type": "execute_result"
    }
   ],
   "source": [
    "# show most important features when determining classification category\n",
    "feature_imp = pd.Series(lin_model.coef_[0], index = features_list).sort_values(ascending = False)\n",
    "feature_imp"
   ]
  },
  {
   "cell_type": "markdown",
   "metadata": {},
   "source": [
    "## Radial Basis Function SVM"
   ]
  },
  {
   "cell_type": "code",
   "execution_count": 16,
   "metadata": {},
   "outputs": [
    {
     "data": {
      "text/plain": [
       "{'gamma': [0.1, 1, 'scale', 'auto'], 'tol': [0.001, 0.0001, 1e-05]}"
      ]
     },
     "execution_count": 16,
     "metadata": {},
     "output_type": "execute_result"
    }
   ],
   "source": [
    "# create lists of possible parameters for rbf SVM\n",
    "# to be used in grid search to find the best possible parameters later\n",
    "\n",
    "rbf_gamma = [0.1, 1,'scale','auto']\n",
    "rbf_tol = [0.001,0.0001,0.00001]\n",
    "\n",
    "# Create the grid\n",
    "rbf_grid = {'gamma': rbf_gamma,\n",
    "               'tol': rbf_tol}\n",
    "\n",
    "rbf_grid\n"
   ]
  },
  {
   "cell_type": "code",
   "execution_count": 17,
   "metadata": {},
   "outputs": [
    {
     "name": "stdout",
     "output_type": "stream",
     "text": [
      "Thu Apr 15 00:28:12 2021\n",
      "Fitting 10 folds for each of 10 candidates, totalling 100 fits\n",
      "Thu Apr 15 00:28:12 2021\n"
     ]
    },
    {
     "name": "stderr",
     "output_type": "stream",
     "text": [
      "[Parallel(n_jobs=-1)]: Using backend LokyBackend with 4 concurrent workers.\n",
      "[Parallel(n_jobs=-1)]: Done  93 tasks      | elapsed:    0.2s\n",
      "[Parallel(n_jobs=-1)]: Done 100 out of 100 | elapsed:    0.2s finished\n"
     ]
    }
   ],
   "source": [
    "# run parameters and find set with best score\n",
    "# this step splits the training data into mini train/test datasets to find the best hyperparameters for the model\n",
    "\n",
    "print(time.ctime(time.time()))\n",
    "\n",
    "# Create the model to be tuned\n",
    "rbf_base = svm.SVC(kernel = 'rbf')\n",
    "\n",
    "# Create the random search to find best hyperparameters\n",
    "rbf_random = RandomizedSearchCV(estimator = rbf_base, \n",
    "                                param_distributions = rbf_grid, \n",
    "                                n_iter = 10,\n",
    "                                cv = 10, \n",
    "                                verbose = 2, \n",
    "                                random_state = 42, \n",
    "                                n_jobs = -1)\n",
    "\n",
    "# Fit the random search model on training data\n",
    "rbf_random.fit(X_train, y_train)\n",
    "\n",
    "print(time.ctime(time.time()))"
   ]
  },
  {
   "cell_type": "code",
   "execution_count": 18,
   "metadata": {},
   "outputs": [
    {
     "data": {
      "text/plain": [
       "{'tol': 0.0001, 'gamma': 'auto'}"
      ]
     },
     "execution_count": 18,
     "metadata": {},
     "output_type": "execute_result"
    }
   ],
   "source": [
    "# display best rbf svm parameters\n",
    "rbf_random.best_params_"
   ]
  },
  {
   "cell_type": "code",
   "execution_count": 19,
   "metadata": {},
   "outputs": [
    {
     "data": {
      "text/html": [
       "<div>\n",
       "<style scoped>\n",
       "    .dataframe tbody tr th:only-of-type {\n",
       "        vertical-align: middle;\n",
       "    }\n",
       "\n",
       "    .dataframe tbody tr th {\n",
       "        vertical-align: top;\n",
       "    }\n",
       "\n",
       "    .dataframe thead th {\n",
       "        text-align: right;\n",
       "    }\n",
       "</style>\n",
       "<table border=\"1\" class=\"dataframe\">\n",
       "  <thead>\n",
       "    <tr style=\"text-align: right;\">\n",
       "      <th>Predicted</th>\n",
       "      <th>Non-Meditative</th>\n",
       "      <th>Meditative</th>\n",
       "    </tr>\n",
       "    <tr>\n",
       "      <th>Actual</th>\n",
       "      <th></th>\n",
       "      <th></th>\n",
       "    </tr>\n",
       "  </thead>\n",
       "  <tbody>\n",
       "    <tr>\n",
       "      <th>Non-Meditative</th>\n",
       "      <td>16</td>\n",
       "      <td>1</td>\n",
       "    </tr>\n",
       "    <tr>\n",
       "      <th>Meditative</th>\n",
       "      <td>0</td>\n",
       "      <td>12</td>\n",
       "    </tr>\n",
       "  </tbody>\n",
       "</table>\n",
       "</div>"
      ],
      "text/plain": [
       "Predicted       Non-Meditative  Meditative\n",
       "Actual                                    \n",
       "Non-Meditative              16           1\n",
       "Meditative                   0          12"
      ]
     },
     "execution_count": 19,
     "metadata": {},
     "output_type": "execute_result"
    }
   ],
   "source": [
    "# Create the rbf SVM model\n",
    "rbf_model = svm.SVC(kernel = 'rbf',\n",
    "                    tol = 1e-05,\n",
    "                      gamma = 1,\n",
    "                      random_state = 42)\n",
    "\n",
    "# fit model\n",
    "rbf_model.fit(X_train,y_train)\n",
    "\n",
    "# predict testing data\n",
    "y_pred = rbf_model.predict(X_test)\n",
    "\n",
    "# display confusion matrix\n",
    "results = pd.crosstab(y_test, y_pred, colnames=['Predicted'])\n",
    "results = results.rename(columns={0: 'Non-Meditative', 1: 'Meditative'})\n",
    "results.index = ['Non-Meditative', 'Meditative']\n",
    "index = results.index\n",
    "index.name = \"Actual\"\n",
    "results"
   ]
  },
  {
   "cell_type": "code",
   "execution_count": 20,
   "metadata": {},
   "outputs": [
    {
     "name": "stdout",
     "output_type": "stream",
     "text": [
      "Radial Basic Function SVM\n",
      "\n",
      "Sensitivity = 1.000\n",
      "Accuracy = 0.966\n",
      "Precision = 0.923\n",
      "Matthew Correlation Coefficient = 0.932\n"
     ]
    }
   ],
   "source": [
    "# obtain metrics of rbf model\n",
    "recall = metrics.recall_score(y_test,y_pred)\n",
    "accuracy = metrics.accuracy_score(y_test,y_pred)\n",
    "precision = metrics.precision_score(y_test,y_pred)\n",
    "mcc = metrics.matthews_corrcoef(y_test,y_pred)\n",
    "\n",
    "svm_rec.append(recall)\n",
    "svm_acc.append(accuracy)\n",
    "svm_pre.append(precision)\n",
    "svm_mcc.append(mcc)\n",
    "\n",
    "print('Radial Basic Function SVM\\n')\n",
    "print('Sensitivity = %.3f' % recall)\n",
    "print('Accuracy = %.3f' % accuracy)\n",
    "print('Precision = %.3f' % precision)\n",
    "print('Matthew Correlation Coefficient = %.3f' % mcc)"
   ]
  },
  {
   "cell_type": "markdown",
   "metadata": {},
   "source": [
    "## Polynomial SVM"
   ]
  },
  {
   "cell_type": "code",
   "execution_count": 21,
   "metadata": {},
   "outputs": [
    {
     "data": {
      "text/plain": [
       "{'gamma': [0.1, 1, 'scale', 'auto'],\n",
       " 'degree': [2, 3, 4, 5, 6, 7],\n",
       " 'tol': [0.001, 0.0001, 1e-05]}"
      ]
     },
     "execution_count": 21,
     "metadata": {},
     "output_type": "execute_result"
    }
   ],
   "source": [
    "# create lists of possible parameters for polynomial SVM\n",
    "# to be used in grid search to find the best possible parameters later\n",
    "\n",
    "poly_degree = [2,3,4,5,6,7]\n",
    "poly_gamma = [0.1, 1,'scale','auto']\n",
    "poly_tol = [0.001,0.0001,0.00001]\n",
    "\n",
    "# Create the grid\n",
    "poly_grid = {'gamma': poly_gamma,\n",
    "            'degree': poly_degree,\n",
    "               'tol': poly_tol}\n",
    "\n",
    "poly_grid\n"
   ]
  },
  {
   "cell_type": "code",
   "execution_count": 22,
   "metadata": {},
   "outputs": [
    {
     "name": "stdout",
     "output_type": "stream",
     "text": [
      "Thu Apr 15 00:28:14 2021\n",
      "Fitting 10 folds for each of 72 candidates, totalling 720 fits\n"
     ]
    },
    {
     "name": "stderr",
     "output_type": "stream",
     "text": [
      "/opt/anaconda3/envs/myenv/lib/python3.8/site-packages/sklearn/model_selection/_search.py:278: UserWarning: The total space of parameters 72 is smaller than n_iter=100. Running 72 iterations. For exhaustive searches, use GridSearchCV.\n",
      "  warnings.warn(\n",
      "[Parallel(n_jobs=-1)]: Using backend LokyBackend with 4 concurrent workers.\n",
      "[Parallel(n_jobs=-1)]: Done 136 tasks      | elapsed:    0.3s\n"
     ]
    },
    {
     "name": "stdout",
     "output_type": "stream",
     "text": [
      "Thu Apr 15 00:28:15 2021\n"
     ]
    },
    {
     "name": "stderr",
     "output_type": "stream",
     "text": [
      "[Parallel(n_jobs=-1)]: Done 720 out of 720 | elapsed:    0.8s finished\n"
     ]
    }
   ],
   "source": [
    "# this step splits the training data into mini train/test datasets to find the best hyperparameters for the model\n",
    "\n",
    "print(time.ctime(time.time()))\n",
    "\n",
    "# Create the model to be tuned\n",
    "poly_base = svm.SVC(kernel = 'poly')\n",
    "\n",
    "# Create the random search to find best hyperparameters\n",
    "poly_random = RandomizedSearchCV(estimator = poly_base, \n",
    "                                param_distributions = poly_grid, \n",
    "                                n_iter = 100,\n",
    "                                cv = 10, \n",
    "                                verbose = 2, \n",
    "                                random_state = 42, \n",
    "                                n_jobs = -1)\n",
    "\n",
    "# Fit the random search model on training data\n",
    "poly_random.fit(X_train, y_train)\n",
    "\n",
    "print(time.ctime(time.time()))"
   ]
  },
  {
   "cell_type": "code",
   "execution_count": 23,
   "metadata": {},
   "outputs": [
    {
     "data": {
      "text/plain": [
       "{'tol': 0.001, 'gamma': 1, 'degree': 3}"
      ]
     },
     "execution_count": 23,
     "metadata": {},
     "output_type": "execute_result"
    }
   ],
   "source": [
    "# display best polynomial svm parameters\n",
    "poly_random.best_params_"
   ]
  },
  {
   "cell_type": "code",
   "execution_count": 24,
   "metadata": {},
   "outputs": [
    {
     "data": {
      "text/html": [
       "<div>\n",
       "<style scoped>\n",
       "    .dataframe tbody tr th:only-of-type {\n",
       "        vertical-align: middle;\n",
       "    }\n",
       "\n",
       "    .dataframe tbody tr th {\n",
       "        vertical-align: top;\n",
       "    }\n",
       "\n",
       "    .dataframe thead th {\n",
       "        text-align: right;\n",
       "    }\n",
       "</style>\n",
       "<table border=\"1\" class=\"dataframe\">\n",
       "  <thead>\n",
       "    <tr style=\"text-align: right;\">\n",
       "      <th>Predicted</th>\n",
       "      <th>Non-Meditative</th>\n",
       "      <th>Meditative</th>\n",
       "    </tr>\n",
       "    <tr>\n",
       "      <th>Actual</th>\n",
       "      <th></th>\n",
       "      <th></th>\n",
       "    </tr>\n",
       "  </thead>\n",
       "  <tbody>\n",
       "    <tr>\n",
       "      <th>Non-Meditative</th>\n",
       "      <td>13</td>\n",
       "      <td>4</td>\n",
       "    </tr>\n",
       "    <tr>\n",
       "      <th>Meditative</th>\n",
       "      <td>0</td>\n",
       "      <td>12</td>\n",
       "    </tr>\n",
       "  </tbody>\n",
       "</table>\n",
       "</div>"
      ],
      "text/plain": [
       "Predicted       Non-Meditative  Meditative\n",
       "Actual                                    \n",
       "Non-Meditative              13           4\n",
       "Meditative                   0          12"
      ]
     },
     "execution_count": 24,
     "metadata": {},
     "output_type": "execute_result"
    }
   ],
   "source": [
    "# Create the poly SVM model\n",
    "poly_model = svm.SVC(kernel = 'poly',\n",
    "                    tol = 0.001,\n",
    "                    gamma = 'auto',\n",
    "                    degree = 3,\n",
    "                    random_state = 42)\n",
    "\n",
    "# fit model\n",
    "poly_model.fit(X_train,y_train)\n",
    "\n",
    "# predict test data\n",
    "y_pred = poly_model.predict(X_test)\n",
    "\n",
    "# confusion matrix\n",
    "results = pd.crosstab(y_test, y_pred, colnames=['Predicted'])\n",
    "results = results.rename(columns={0: 'Non-Meditative', 1: 'Meditative'})\n",
    "results.index = ['Non-Meditative', 'Meditative']\n",
    "index = results.index\n",
    "index.name = \"Actual\"\n",
    "results"
   ]
  },
  {
   "cell_type": "code",
   "execution_count": 25,
   "metadata": {},
   "outputs": [
    {
     "name": "stdout",
     "output_type": "stream",
     "text": [
      "Polynomial SVM\n",
      "\n",
      "Sensitivity = 1.000\n",
      "Accuracy = 0.862\n",
      "Precision = 0.750\n",
      "Matthew Correlation Coefficient = 0.757\n"
     ]
    }
   ],
   "source": [
    "# evaluation metrics of poly svm model\n",
    "recall = metrics.recall_score(y_test,y_pred)\n",
    "accuracy = metrics.accuracy_score(y_test,y_pred)\n",
    "precision = metrics.precision_score(y_test,y_pred)\n",
    "mcc = metrics.matthews_corrcoef(y_test,y_pred)\n",
    "\n",
    "svm_rec.append(recall)\n",
    "svm_acc.append(accuracy)\n",
    "svm_pre.append(precision)\n",
    "svm_mcc.append(mcc)\n",
    "\n",
    "print('Polynomial SVM\\n')\n",
    "print('Sensitivity = %.3f' % recall)\n",
    "print('Accuracy = %.3f' % accuracy)\n",
    "print('Precision = %.3f' % precision)\n",
    "print('Matthew Correlation Coefficient = %.3f' % mcc)"
   ]
  },
  {
   "cell_type": "markdown",
   "metadata": {},
   "source": [
    "### Comparison Between SVM models"
   ]
  },
  {
   "cell_type": "code",
   "execution_count": 26,
   "metadata": {},
   "outputs": [
    {
     "data": {
      "text/html": [
       "<div>\n",
       "<style scoped>\n",
       "    .dataframe tbody tr th:only-of-type {\n",
       "        vertical-align: middle;\n",
       "    }\n",
       "\n",
       "    .dataframe tbody tr th {\n",
       "        vertical-align: top;\n",
       "    }\n",
       "\n",
       "    .dataframe thead th {\n",
       "        text-align: right;\n",
       "    }\n",
       "</style>\n",
       "<table border=\"1\" class=\"dataframe\">\n",
       "  <thead>\n",
       "    <tr style=\"text-align: right;\">\n",
       "      <th></th>\n",
       "      <th>svm kernel</th>\n",
       "      <th>sensitivity</th>\n",
       "      <th>accuracy</th>\n",
       "      <th>precision</th>\n",
       "      <th>mcc</th>\n",
       "    </tr>\n",
       "  </thead>\n",
       "  <tbody>\n",
       "    <tr>\n",
       "      <th>0</th>\n",
       "      <td>linear</td>\n",
       "      <td>1.0</td>\n",
       "      <td>1.000000</td>\n",
       "      <td>1.000000</td>\n",
       "      <td>1.000000</td>\n",
       "    </tr>\n",
       "    <tr>\n",
       "      <th>1</th>\n",
       "      <td>rbf</td>\n",
       "      <td>1.0</td>\n",
       "      <td>0.965517</td>\n",
       "      <td>0.923077</td>\n",
       "      <td>0.932083</td>\n",
       "    </tr>\n",
       "    <tr>\n",
       "      <th>2</th>\n",
       "      <td>poly</td>\n",
       "      <td>1.0</td>\n",
       "      <td>0.862069</td>\n",
       "      <td>0.750000</td>\n",
       "      <td>0.757317</td>\n",
       "    </tr>\n",
       "  </tbody>\n",
       "</table>\n",
       "</div>"
      ],
      "text/plain": [
       "  svm kernel  sensitivity  accuracy  precision       mcc\n",
       "0     linear          1.0  1.000000   1.000000  1.000000\n",
       "1        rbf          1.0  0.965517   0.923077  0.932083\n",
       "2       poly          1.0  0.862069   0.750000  0.757317"
      ]
     },
     "execution_count": 26,
     "metadata": {},
     "output_type": "execute_result"
    }
   ],
   "source": [
    "df = pd.DataFrame()\n",
    "\n",
    "df['svm kernel'] = ['linear','rbf','poly']\n",
    "df['sensitivity'] = svm_rec\n",
    "df['accuracy'] = svm_acc\n",
    "df['precision'] = svm_pre\n",
    "df['mcc'] = svm_mcc\n",
    "\n",
    "df"
   ]
  },
  {
   "cell_type": "code",
   "execution_count": 27,
   "metadata": {},
   "outputs": [
    {
     "data": {
      "image/png": "[encoded data removed]",
      "text/plain": [
       "<Figure size 720x480 with 2 Axes>"
      ]
     },
     "metadata": {
      "needs_background": "light"
     },
     "output_type": "display_data"
    }
   ],
   "source": [
    "y_axis_labels = ['linear','rbf','polynomial']\n",
    "\n",
    "plt.figure(dpi = 120)\n",
    "ax = sns.heatmap(df.iloc[:, 1:],\n",
    "                 cmap = 'GnBu',\n",
    "                 annot = True,\n",
    "                 yticklabels = y_axis_labels,\n",
    "                )\n",
    "\n",
    "plt.yticks(rotation=0) \n",
    "plt.show()"
   ]
  },
  {
   "cell_type": "markdown",
   "metadata": {},
   "source": [
    "Linear SVM showed best performance overall"
   ]
  },
  {
   "cell_type": "code",
   "execution_count": null,
   "metadata": {},
   "outputs": [],
   "source": []
  }
 ],
 "metadata": {
  "kernelspec": {
   "display_name": "Python 3",
   "language": "python",
   "name": "python3"
  },
  "language_info": {
   "codemirror_mode": {
    "name": "ipython",
    "version": 3
   },
   "file_extension": ".py",
   "mimetype": "text/x-python",
   "name": "python",
   "nbconvert_exporter": "python",
   "pygments_lexer": "ipython3",
   "version": "3.8.8"
  }
 },
 "nbformat": 4,
 "nbformat_minor": 2
}
